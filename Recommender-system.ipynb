{
 "cells": [
  {
   "cell_type": "code",
   "execution_count": 1,
   "metadata": {},
   "outputs": [],
   "source": [
    "import numpy as np\n",
    "import pandas as pd\n",
    "from sklearn.preprocessing import LabelEncoder\n",
    "from imblearn.over_sampling import RandomOverSampler\n",
    "from sklearn.preprocessing import MinMaxScaler\n",
    "from tensorflow.keras.models import Model\n",
    "from tensorflow.keras.layers import Input, Embedding, Flatten, Dot, Dense"
   ]
  },
  {
   "cell_type": "code",
   "execution_count": 2,
   "metadata": {},
   "outputs": [
    {
     "data": {
      "text/html": [
       "<div>\n",
       "<style scoped>\n",
       "    .dataframe tbody tr th:only-of-type {\n",
       "        vertical-align: middle;\n",
       "    }\n",
       "\n",
       "    .dataframe tbody tr th {\n",
       "        vertical-align: top;\n",
       "    }\n",
       "\n",
       "    .dataframe thead th {\n",
       "        text-align: right;\n",
       "    }\n",
       "</style>\n",
       "<table border=\"1\" class=\"dataframe\">\n",
       "  <thead>\n",
       "    <tr style=\"text-align: right;\">\n",
       "      <th></th>\n",
       "      <th>UserID</th>\n",
       "      <th>ProductID</th>\n",
       "      <th>Rating</th>\n",
       "      <th>Timestamp</th>\n",
       "    </tr>\n",
       "  </thead>\n",
       "  <tbody>\n",
       "    <tr>\n",
       "      <th>0</th>\n",
       "      <td>A3HICVLF4PFFMN</td>\n",
       "      <td>0594481813</td>\n",
       "      <td>5.0</td>\n",
       "      <td>2014-05-05</td>\n",
       "    </tr>\n",
       "    <tr>\n",
       "      <th>1</th>\n",
       "      <td>A2QBZA4S1ROX9Q</td>\n",
       "      <td>0594481813</td>\n",
       "      <td>3.0</td>\n",
       "      <td>2013-05-25</td>\n",
       "    </tr>\n",
       "    <tr>\n",
       "      <th>2</th>\n",
       "      <td>AT09WGFUM934H</td>\n",
       "      <td>0594481813</td>\n",
       "      <td>3.0</td>\n",
       "      <td>2013-08-31</td>\n",
       "    </tr>\n",
       "    <tr>\n",
       "      <th>3</th>\n",
       "      <td>AGAKHE014LQFU</td>\n",
       "      <td>0594481813</td>\n",
       "      <td>3.0</td>\n",
       "      <td>2013-09-18</td>\n",
       "    </tr>\n",
       "    <tr>\n",
       "      <th>4</th>\n",
       "      <td>A1S6B5QFWGVL5U</td>\n",
       "      <td>0594481813</td>\n",
       "      <td>4.0</td>\n",
       "      <td>2013-06-27</td>\n",
       "    </tr>\n",
       "  </tbody>\n",
       "</table>\n",
       "</div>"
      ],
      "text/plain": [
       "           UserID   ProductID  Rating   Timestamp\n",
       "0  A3HICVLF4PFFMN  0594481813     5.0  2014-05-05\n",
       "1  A2QBZA4S1ROX9Q  0594481813     3.0  2013-05-25\n",
       "2   AT09WGFUM934H  0594481813     3.0  2013-08-31\n",
       "3   AGAKHE014LQFU  0594481813     3.0  2013-09-18\n",
       "4  A1S6B5QFWGVL5U  0594481813     4.0  2013-06-27"
      ]
     },
     "execution_count": 2,
     "metadata": {},
     "output_type": "execute_result"
    }
   ],
   "source": [
    "# Loading the dataset\n",
    "# TODO\n",
    "\n",
    "train = pd.read_csv(\"data/amazon_train.csv\")\n",
    "valid = pd.read_csv('data/amazon_valid.csv')\n",
    "test = pd.read_csv('data/amazon_test.csv')\n",
    "train.head()"
   ]
  },
  {
   "cell_type": "markdown",
   "metadata": {},
   "source": [
    "### Preprocessing "
   ]
  },
  {
   "cell_type": "code",
   "execution_count": 3,
   "metadata": {},
   "outputs": [
    {
     "data": {
      "text/html": [
       "<div>\n",
       "<style scoped>\n",
       "    .dataframe tbody tr th:only-of-type {\n",
       "        vertical-align: middle;\n",
       "    }\n",
       "\n",
       "    .dataframe tbody tr th {\n",
       "        vertical-align: top;\n",
       "    }\n",
       "\n",
       "    .dataframe thead th {\n",
       "        text-align: right;\n",
       "    }\n",
       "</style>\n",
       "<table border=\"1\" class=\"dataframe\">\n",
       "  <thead>\n",
       "    <tr style=\"text-align: right;\">\n",
       "      <th></th>\n",
       "      <th>UserID</th>\n",
       "      <th>ProductID</th>\n",
       "      <th>Rating</th>\n",
       "    </tr>\n",
       "  </thead>\n",
       "  <tbody>\n",
       "    <tr>\n",
       "      <th>0</th>\n",
       "      <td>A3HICVLF4PFFMN</td>\n",
       "      <td>0594481813</td>\n",
       "      <td>5.0</td>\n",
       "    </tr>\n",
       "    <tr>\n",
       "      <th>1</th>\n",
       "      <td>A2QBZA4S1ROX9Q</td>\n",
       "      <td>0594481813</td>\n",
       "      <td>3.0</td>\n",
       "    </tr>\n",
       "    <tr>\n",
       "      <th>2</th>\n",
       "      <td>AT09WGFUM934H</td>\n",
       "      <td>0594481813</td>\n",
       "      <td>3.0</td>\n",
       "    </tr>\n",
       "    <tr>\n",
       "      <th>3</th>\n",
       "      <td>AGAKHE014LQFU</td>\n",
       "      <td>0594481813</td>\n",
       "      <td>3.0</td>\n",
       "    </tr>\n",
       "    <tr>\n",
       "      <th>4</th>\n",
       "      <td>A1S6B5QFWGVL5U</td>\n",
       "      <td>0594481813</td>\n",
       "      <td>4.0</td>\n",
       "    </tr>\n",
       "  </tbody>\n",
       "</table>\n",
       "</div>"
      ],
      "text/plain": [
       "           UserID   ProductID  Rating\n",
       "0  A3HICVLF4PFFMN  0594481813     5.0\n",
       "1  A2QBZA4S1ROX9Q  0594481813     3.0\n",
       "2   AT09WGFUM934H  0594481813     3.0\n",
       "3   AGAKHE014LQFU  0594481813     3.0\n",
       "4  A1S6B5QFWGVL5U  0594481813     4.0"
      ]
     },
     "execution_count": 3,
     "metadata": {},
     "output_type": "execute_result"
    }
   ],
   "source": [
    "\n",
    "\n",
    "sampling_strategy = {1: round(train['Rating'].value_counts()[1]*2.5),\n",
    "                     2: round(train['Rating'].value_counts()[2]*3),\n",
    "                     3: round(train['Rating'].value_counts()[3]*2)}\n",
    "\n",
    "ros = RandomOverSampler(sampling_strategy=sampling_strategy, random_state=42)\n",
    "X_train_ros, y_train_ros = ros.fit_resample(train[['UserID', 'ProductID']], train['Rating'])\n",
    "\n",
    "train_ros = pd.DataFrame(X_train_ros, columns=['UserID', 'ProductID'])\n",
    "train_ros['Rating'] = y_train_ros\n",
    "\n",
    "train_ros.head()"
   ]
  },
  {
   "cell_type": "code",
   "execution_count": 4,
   "metadata": {},
   "outputs": [],
   "source": [
    "train = train_ros\n",
    "\n",
    "le_user = LabelEncoder()\n",
    "train['UserEnc'] = le_user.fit_transform(train['UserID'].values)\n",
    "\n",
    "le_product = LabelEncoder()\n",
    "train['ProductEnc'] = le_product.fit_transform(train['ProductID'].values)\n",
    "\n",
    "valid['UserEnc'] = le_user.transform(valid['UserID'].values)\n",
    "valid['ProductEnc'] = le_product.transform(valid['ProductID'].values)\n",
    "\n",
    "test['UserEnc'] = le_user.transform(test['UserID'].values)\n",
    "test['ProductEnc'] = le_product.transform(test['ProductID'].values)"
   ]
  },
  {
   "cell_type": "code",
   "execution_count": 5,
   "metadata": {
    "colab": {
     "base_uri": "https://localhost:8080/",
     "height": 206
    },
    "id": "8WAJmLCc1hP5",
    "outputId": "75f04964-75d7-4560-8cbb-c0c7c051d299"
   },
   "outputs": [],
   "source": [
    "# Scaling the Rating column\n",
    "\n",
    "scaler = MinMaxScaler()\n",
    "train['Rating'] = scaler.fit_transform(train['Rating'].values.reshape(-1, 1))\n",
    "valid['Rating'] = scaler.transform(valid['Rating'].values.reshape(-1, 1))"
   ]
  },
  {
   "cell_type": "markdown",
   "metadata": {},
   "source": [
    "### Model "
   ]
  },
  {
   "cell_type": "code",
   "execution_count": 6,
   "metadata": {},
   "outputs": [],
   "source": [
    "\n",
    "num_users = train['UserEnc'].nunique()\n",
    "num_products = train['ProductEnc'].nunique()\n",
    "embedding_size = 200\n",
    "\n",
    "# User embedding input and layers\n",
    "user_input = Input(shape=(1,), name='user_input')\n",
    "user_embedding = Embedding(input_dim=num_users, output_dim=embedding_size, name='user_embedding')(user_input)\n",
    "user_vector = Flatten(name='user_vector')(user_embedding)\n",
    "\n",
    "# Product embedding input and layers\n",
    "product_input = Input(shape=(1,), name='product_input')\n",
    "product_embedding = Embedding(input_dim=num_products, output_dim=embedding_size, name='product_embedding')(product_input)\n",
    "product_vector = Flatten(name='product_vector')(product_embedding)\n",
    "\n",
    "# Dot product of user and product vectors\n",
    "dot_product = Dot(axes=1, name='dot_product')([user_vector, product_vector])\n",
    "\n",
    "# Output layer with sigmoid activation\n",
    "output = Dense(1, activation='sigmoid', name='output')(dot_product)\n",
    "\n",
    "# Create the final model\n",
    "model = Model(inputs=[user_input, product_input], outputs=output, name='user_product_model')\n",
    "\n"
   ]
  },
  {
   "cell_type": "code",
   "execution_count": 7,
   "metadata": {},
   "outputs": [
    {
     "data": {
      "text/html": [
       "<pre style=\"white-space:pre;overflow-x:auto;line-height:normal;font-family:Menlo,'DejaVu Sans Mono',consolas,'Courier New',monospace\"><span style=\"font-weight: bold\">Model: \"user_product_model\"</span>\n",
       "</pre>\n"
      ],
      "text/plain": [
       "\u001b[1mModel: \"user_product_model\"\u001b[0m\n"
      ]
     },
     "metadata": {},
     "output_type": "display_data"
    },
    {
     "data": {
      "text/html": [
       "<pre style=\"white-space:pre;overflow-x:auto;line-height:normal;font-family:Menlo,'DejaVu Sans Mono',consolas,'Courier New',monospace\">┏━━━━━━━━━━━━━━━━━━━━━━━━━━━━━━━┳━━━━━━━━━━━━━━━━━━━━━━━━━━━┳━━━━━━━━━━━━━━━━━┳━━━━━━━━━━━━━━━━━━━━━━━━━━━━┓\n",
       "┃<span style=\"font-weight: bold\"> Layer (type)                  </span>┃<span style=\"font-weight: bold\"> Output Shape              </span>┃<span style=\"font-weight: bold\">         Param # </span>┃<span style=\"font-weight: bold\"> Connected to               </span>┃\n",
       "┡━━━━━━━━━━━━━━━━━━━━━━━━━━━━━━━╇━━━━━━━━━━━━━━━━━━━━━━━━━━━╇━━━━━━━━━━━━━━━━━╇━━━━━━━━━━━━━━━━━━━━━━━━━━━━┩\n",
       "│ user_input (<span style=\"color: #0087ff; text-decoration-color: #0087ff\">InputLayer</span>)       │ (<span style=\"color: #00d7ff; text-decoration-color: #00d7ff\">None</span>, <span style=\"color: #00af00; text-decoration-color: #00af00\">1</span>)                 │               <span style=\"color: #00af00; text-decoration-color: #00af00\">0</span> │ -                          │\n",
       "├───────────────────────────────┼───────────────────────────┼─────────────────┼────────────────────────────┤\n",
       "│ product_input (<span style=\"color: #0087ff; text-decoration-color: #0087ff\">InputLayer</span>)    │ (<span style=\"color: #00d7ff; text-decoration-color: #00d7ff\">None</span>, <span style=\"color: #00af00; text-decoration-color: #00af00\">1</span>)                 │               <span style=\"color: #00af00; text-decoration-color: #00af00\">0</span> │ -                          │\n",
       "├───────────────────────────────┼───────────────────────────┼─────────────────┼────────────────────────────┤\n",
       "│ user_embedding (<span style=\"color: #0087ff; text-decoration-color: #0087ff\">Embedding</span>)    │ (<span style=\"color: #00d7ff; text-decoration-color: #00d7ff\">None</span>, <span style=\"color: #00af00; text-decoration-color: #00af00\">1</span>, <span style=\"color: #00af00; text-decoration-color: #00af00\">200</span>)            │      <span style=\"color: #00af00; text-decoration-color: #00af00\">18,010,000</span> │ user_input[<span style=\"color: #00af00; text-decoration-color: #00af00\">0</span>][<span style=\"color: #00af00; text-decoration-color: #00af00\">0</span>]           │\n",
       "├───────────────────────────────┼───────────────────────────┼─────────────────┼────────────────────────────┤\n",
       "│ product_embedding (<span style=\"color: #0087ff; text-decoration-color: #0087ff\">Embedding</span>) │ (<span style=\"color: #00d7ff; text-decoration-color: #00d7ff\">None</span>, <span style=\"color: #00af00; text-decoration-color: #00af00\">1</span>, <span style=\"color: #00af00; text-decoration-color: #00af00\">200</span>)            │       <span style=\"color: #00af00; text-decoration-color: #00af00\">9,753,800</span> │ product_input[<span style=\"color: #00af00; text-decoration-color: #00af00\">0</span>][<span style=\"color: #00af00; text-decoration-color: #00af00\">0</span>]        │\n",
       "├───────────────────────────────┼───────────────────────────┼─────────────────┼────────────────────────────┤\n",
       "│ user_vector (<span style=\"color: #0087ff; text-decoration-color: #0087ff\">Flatten</span>)         │ (<span style=\"color: #00d7ff; text-decoration-color: #00d7ff\">None</span>, <span style=\"color: #00af00; text-decoration-color: #00af00\">200</span>)               │               <span style=\"color: #00af00; text-decoration-color: #00af00\">0</span> │ user_embedding[<span style=\"color: #00af00; text-decoration-color: #00af00\">0</span>][<span style=\"color: #00af00; text-decoration-color: #00af00\">0</span>]       │\n",
       "├───────────────────────────────┼───────────────────────────┼─────────────────┼────────────────────────────┤\n",
       "│ product_vector (<span style=\"color: #0087ff; text-decoration-color: #0087ff\">Flatten</span>)      │ (<span style=\"color: #00d7ff; text-decoration-color: #00d7ff\">None</span>, <span style=\"color: #00af00; text-decoration-color: #00af00\">200</span>)               │               <span style=\"color: #00af00; text-decoration-color: #00af00\">0</span> │ product_embedding[<span style=\"color: #00af00; text-decoration-color: #00af00\">0</span>][<span style=\"color: #00af00; text-decoration-color: #00af00\">0</span>]    │\n",
       "├───────────────────────────────┼───────────────────────────┼─────────────────┼────────────────────────────┤\n",
       "│ dot_product (<span style=\"color: #0087ff; text-decoration-color: #0087ff\">Dot</span>)             │ (<span style=\"color: #00d7ff; text-decoration-color: #00d7ff\">None</span>, <span style=\"color: #00af00; text-decoration-color: #00af00\">1</span>)                 │               <span style=\"color: #00af00; text-decoration-color: #00af00\">0</span> │ user_vector[<span style=\"color: #00af00; text-decoration-color: #00af00\">0</span>][<span style=\"color: #00af00; text-decoration-color: #00af00\">0</span>],         │\n",
       "│                               │                           │                 │ product_vector[<span style=\"color: #00af00; text-decoration-color: #00af00\">0</span>][<span style=\"color: #00af00; text-decoration-color: #00af00\">0</span>]       │\n",
       "├───────────────────────────────┼───────────────────────────┼─────────────────┼────────────────────────────┤\n",
       "│ output (<span style=\"color: #0087ff; text-decoration-color: #0087ff\">Dense</span>)                │ (<span style=\"color: #00d7ff; text-decoration-color: #00d7ff\">None</span>, <span style=\"color: #00af00; text-decoration-color: #00af00\">1</span>)                 │               <span style=\"color: #00af00; text-decoration-color: #00af00\">2</span> │ dot_product[<span style=\"color: #00af00; text-decoration-color: #00af00\">0</span>][<span style=\"color: #00af00; text-decoration-color: #00af00\">0</span>]          │\n",
       "└───────────────────────────────┴───────────────────────────┴─────────────────┴────────────────────────────┘\n",
       "</pre>\n"
      ],
      "text/plain": [
       "┏━━━━━━━━━━━━━━━━━━━━━━━━━━━━━━━┳━━━━━━━━━━━━━━━━━━━━━━━━━━━┳━━━━━━━━━━━━━━━━━┳━━━━━━━━━━━━━━━━━━━━━━━━━━━━┓\n",
       "┃\u001b[1m \u001b[0m\u001b[1mLayer (type)                 \u001b[0m\u001b[1m \u001b[0m┃\u001b[1m \u001b[0m\u001b[1mOutput Shape             \u001b[0m\u001b[1m \u001b[0m┃\u001b[1m \u001b[0m\u001b[1m        Param #\u001b[0m\u001b[1m \u001b[0m┃\u001b[1m \u001b[0m\u001b[1mConnected to              \u001b[0m\u001b[1m \u001b[0m┃\n",
       "┡━━━━━━━━━━━━━━━━━━━━━━━━━━━━━━━╇━━━━━━━━━━━━━━━━━━━━━━━━━━━╇━━━━━━━━━━━━━━━━━╇━━━━━━━━━━━━━━━━━━━━━━━━━━━━┩\n",
       "│ user_input (\u001b[38;5;33mInputLayer\u001b[0m)       │ (\u001b[38;5;45mNone\u001b[0m, \u001b[38;5;34m1\u001b[0m)                 │               \u001b[38;5;34m0\u001b[0m │ -                          │\n",
       "├───────────────────────────────┼───────────────────────────┼─────────────────┼────────────────────────────┤\n",
       "│ product_input (\u001b[38;5;33mInputLayer\u001b[0m)    │ (\u001b[38;5;45mNone\u001b[0m, \u001b[38;5;34m1\u001b[0m)                 │               \u001b[38;5;34m0\u001b[0m │ -                          │\n",
       "├───────────────────────────────┼───────────────────────────┼─────────────────┼────────────────────────────┤\n",
       "│ user_embedding (\u001b[38;5;33mEmbedding\u001b[0m)    │ (\u001b[38;5;45mNone\u001b[0m, \u001b[38;5;34m1\u001b[0m, \u001b[38;5;34m200\u001b[0m)            │      \u001b[38;5;34m18,010,000\u001b[0m │ user_input[\u001b[38;5;34m0\u001b[0m][\u001b[38;5;34m0\u001b[0m]           │\n",
       "├───────────────────────────────┼───────────────────────────┼─────────────────┼────────────────────────────┤\n",
       "│ product_embedding (\u001b[38;5;33mEmbedding\u001b[0m) │ (\u001b[38;5;45mNone\u001b[0m, \u001b[38;5;34m1\u001b[0m, \u001b[38;5;34m200\u001b[0m)            │       \u001b[38;5;34m9,753,800\u001b[0m │ product_input[\u001b[38;5;34m0\u001b[0m][\u001b[38;5;34m0\u001b[0m]        │\n",
       "├───────────────────────────────┼───────────────────────────┼─────────────────┼────────────────────────────┤\n",
       "│ user_vector (\u001b[38;5;33mFlatten\u001b[0m)         │ (\u001b[38;5;45mNone\u001b[0m, \u001b[38;5;34m200\u001b[0m)               │               \u001b[38;5;34m0\u001b[0m │ user_embedding[\u001b[38;5;34m0\u001b[0m][\u001b[38;5;34m0\u001b[0m]       │\n",
       "├───────────────────────────────┼───────────────────────────┼─────────────────┼────────────────────────────┤\n",
       "│ product_vector (\u001b[38;5;33mFlatten\u001b[0m)      │ (\u001b[38;5;45mNone\u001b[0m, \u001b[38;5;34m200\u001b[0m)               │               \u001b[38;5;34m0\u001b[0m │ product_embedding[\u001b[38;5;34m0\u001b[0m][\u001b[38;5;34m0\u001b[0m]    │\n",
       "├───────────────────────────────┼───────────────────────────┼─────────────────┼────────────────────────────┤\n",
       "│ dot_product (\u001b[38;5;33mDot\u001b[0m)             │ (\u001b[38;5;45mNone\u001b[0m, \u001b[38;5;34m1\u001b[0m)                 │               \u001b[38;5;34m0\u001b[0m │ user_vector[\u001b[38;5;34m0\u001b[0m][\u001b[38;5;34m0\u001b[0m],         │\n",
       "│                               │                           │                 │ product_vector[\u001b[38;5;34m0\u001b[0m][\u001b[38;5;34m0\u001b[0m]       │\n",
       "├───────────────────────────────┼───────────────────────────┼─────────────────┼────────────────────────────┤\n",
       "│ output (\u001b[38;5;33mDense\u001b[0m)                │ (\u001b[38;5;45mNone\u001b[0m, \u001b[38;5;34m1\u001b[0m)                 │               \u001b[38;5;34m2\u001b[0m │ dot_product[\u001b[38;5;34m0\u001b[0m][\u001b[38;5;34m0\u001b[0m]          │\n",
       "└───────────────────────────────┴───────────────────────────┴─────────────────┴────────────────────────────┘\n"
      ]
     },
     "metadata": {},
     "output_type": "display_data"
    },
    {
     "data": {
      "text/html": [
       "<pre style=\"white-space:pre;overflow-x:auto;line-height:normal;font-family:Menlo,'DejaVu Sans Mono',consolas,'Courier New',monospace\"><span style=\"font-weight: bold\"> Total params: </span><span style=\"color: #00af00; text-decoration-color: #00af00\">27,763,802</span> (105.91 MB)\n",
       "</pre>\n"
      ],
      "text/plain": [
       "\u001b[1m Total params: \u001b[0m\u001b[38;5;34m27,763,802\u001b[0m (105.91 MB)\n"
      ]
     },
     "metadata": {},
     "output_type": "display_data"
    },
    {
     "data": {
      "text/html": [
       "<pre style=\"white-space:pre;overflow-x:auto;line-height:normal;font-family:Menlo,'DejaVu Sans Mono',consolas,'Courier New',monospace\"><span style=\"font-weight: bold\"> Trainable params: </span><span style=\"color: #00af00; text-decoration-color: #00af00\">27,763,802</span> (105.91 MB)\n",
       "</pre>\n"
      ],
      "text/plain": [
       "\u001b[1m Trainable params: \u001b[0m\u001b[38;5;34m27,763,802\u001b[0m (105.91 MB)\n"
      ]
     },
     "metadata": {},
     "output_type": "display_data"
    },
    {
     "data": {
      "text/html": [
       "<pre style=\"white-space:pre;overflow-x:auto;line-height:normal;font-family:Menlo,'DejaVu Sans Mono',consolas,'Courier New',monospace\"><span style=\"font-weight: bold\"> Non-trainable params: </span><span style=\"color: #00af00; text-decoration-color: #00af00\">0</span> (0.00 B)\n",
       "</pre>\n"
      ],
      "text/plain": [
       "\u001b[1m Non-trainable params: \u001b[0m\u001b[38;5;34m0\u001b[0m (0.00 B)\n"
      ]
     },
     "metadata": {},
     "output_type": "display_data"
    }
   ],
   "source": [
    "# Training phase\n",
    "# TODO\n",
    "# Compiling the model\n",
    "model.compile(optimizer='adam', loss='binary_crossentropy', metrics=['accuracy'])\n",
    "\n",
    "# Model summary\n",
    "model.summary()\n"
   ]
  },
  {
   "cell_type": "code",
   "execution_count": 8,
   "metadata": {},
   "outputs": [],
   "source": [
    "user_ids = train['UserEnc'].values\n",
    "product_ids = train['ProductEnc'].values\n",
    "ratings = train['Rating'].values\n",
    "\n",
    "\n",
    "valid_user_ids = valid['UserEnc'].values\n",
    "valid_product_ids = valid['ProductEnc'].values\n",
    "valid_ratings = valid['Rating'].values"
   ]
  },
  {
   "cell_type": "code",
   "execution_count": 9,
   "metadata": {},
   "outputs": [
    {
     "name": "stdout",
     "output_type": "stream",
     "text": [
      "Epoch 1/10\n",
      "\u001b[1m1123/1123\u001b[0m \u001b[32m━━━━━━━━━━━━━━━━━━━━\u001b[0m\u001b[37m\u001b[0m \u001b[1m374s\u001b[0m 330ms/step - accuracy: 0.4714 - loss: 0.6474 - val_accuracy: 0.6138 - val_loss: 0.5140\n",
      "Epoch 2/10\n",
      "\u001b[1m1123/1123\u001b[0m \u001b[32m━━━━━━━━━━━━━━━━━━━━\u001b[0m\u001b[37m\u001b[0m \u001b[1m352s\u001b[0m 313ms/step - accuracy: 0.5797 - loss: 0.3746 - val_accuracy: 0.6123 - val_loss: 0.4838\n",
      "Epoch 3/10\n",
      "\u001b[1m1123/1123\u001b[0m \u001b[32m━━━━━━━━━━━━━━━━━━━━\u001b[0m\u001b[37m\u001b[0m \u001b[1m1057s\u001b[0m 941ms/step - accuracy: 0.5869 - loss: 0.2782 - val_accuracy: 0.6120 - val_loss: 0.4849\n",
      "Epoch 4/10\n",
      "\u001b[1m1123/1123\u001b[0m \u001b[32m━━━━━━━━━━━━━━━━━━━━\u001b[0m\u001b[37m\u001b[0m \u001b[1m361s\u001b[0m 321ms/step - accuracy: 0.5867 - loss: 0.2784 - val_accuracy: 0.6123 - val_loss: 0.4853\n",
      "Epoch 5/10\n",
      "\u001b[1m1123/1123\u001b[0m \u001b[32m━━━━━━━━━━━━━━━━━━━━\u001b[0m\u001b[37m\u001b[0m \u001b[1m338s\u001b[0m 301ms/step - accuracy: 0.5878 - loss: 0.2752 - val_accuracy: 0.6128 - val_loss: 0.4852\n",
      "Epoch 6/10\n",
      "\u001b[1m1123/1123\u001b[0m \u001b[32m━━━━━━━━━━━━━━━━━━━━\u001b[0m\u001b[37m\u001b[0m \u001b[1m340s\u001b[0m 302ms/step - accuracy: 0.5871 - loss: 0.2697 - val_accuracy: 0.6126 - val_loss: 0.4860\n",
      "Epoch 7/10\n",
      "\u001b[1m1123/1123\u001b[0m \u001b[32m━━━━━━━━━━━━━━━━━━━━\u001b[0m\u001b[37m\u001b[0m \u001b[1m339s\u001b[0m 301ms/step - accuracy: 0.5871 - loss: 0.2697 - val_accuracy: 0.6127 - val_loss: 0.4862\n",
      "Epoch 8/10\n",
      "\u001b[1m1123/1123\u001b[0m \u001b[32m━━━━━━━━━━━━━━━━━━━━\u001b[0m\u001b[37m\u001b[0m \u001b[1m340s\u001b[0m 302ms/step - accuracy: 0.5873 - loss: 0.2661 - val_accuracy: 0.6126 - val_loss: 0.4877\n",
      "Epoch 9/10\n",
      "\u001b[1m1123/1123\u001b[0m \u001b[32m━━━━━━━━━━━━━━━━━━━━\u001b[0m\u001b[37m\u001b[0m \u001b[1m339s\u001b[0m 302ms/step - accuracy: 0.5869 - loss: 0.2674 - val_accuracy: 0.6127 - val_loss: 0.4885\n",
      "Epoch 10/10\n",
      "\u001b[1m1123/1123\u001b[0m \u001b[32m━━━━━━━━━━━━━━━━━━━━\u001b[0m\u001b[37m\u001b[0m \u001b[1m338s\u001b[0m 301ms/step - accuracy: 0.5872 - loss: 0.2643 - val_accuracy: 0.6124 - val_loss: 0.4889\n"
     ]
    }
   ],
   "source": [
    "history = model.fit(\n",
    "    [user_ids, product_ids],  \n",
    "    ratings,\n",
    "    validation_data=([valid_user_ids, valid_product_ids], valid_ratings),  \n",
    "    epochs=10,\n",
    "    batch_size=1024\n",
    ")"
   ]
  },
  {
   "cell_type": "markdown",
   "metadata": {},
   "source": [
    "##### . Because  evaluation score is precision the final result  on test dataset is different ,the final score on test data is 83%"
   ]
  },
  {
   "cell_type": "code",
   "execution_count": 10,
   "metadata": {},
   "outputs": [],
   "source": [
    "user_values_test = test['UserEnc'].values\n",
    "product_values_test = test['ProductEnc'].values\n",
    "\n",
    "ID = test['ProductID']\n",
    "User = test['UserID']"
   ]
  },
  {
   "cell_type": "code",
   "execution_count": 11,
   "metadata": {},
   "outputs": [
    {
     "name": "stdout",
     "output_type": "stream",
     "text": [
      "\u001b[1m2805/2805\u001b[0m \u001b[32m━━━━━━━━━━━━━━━━━━━━\u001b[0m\u001b[37m\u001b[0m \u001b[1m4s\u001b[0m 1ms/step\n",
      "Shape of User: (89732,)\n",
      "Shape of ID: (89732,)\n",
      "Shape of rescaled_Prediction: (89732,)\n"
     ]
    },
    {
     "data": {
      "text/html": [
       "<div>\n",
       "<style scoped>\n",
       "    .dataframe tbody tr th:only-of-type {\n",
       "        vertical-align: middle;\n",
       "    }\n",
       "\n",
       "    .dataframe tbody tr th {\n",
       "        vertical-align: top;\n",
       "    }\n",
       "\n",
       "    .dataframe thead th {\n",
       "        text-align: right;\n",
       "    }\n",
       "</style>\n",
       "<table border=\"1\" class=\"dataframe\">\n",
       "  <thead>\n",
       "    <tr style=\"text-align: right;\">\n",
       "      <th></th>\n",
       "      <th>UserID</th>\n",
       "      <th>ProductID</th>\n",
       "      <th>Rating</th>\n",
       "    </tr>\n",
       "  </thead>\n",
       "  <tbody>\n",
       "    <tr>\n",
       "      <th>0</th>\n",
       "      <td>A2Y3A341VDK37H</td>\n",
       "      <td>B00HFI55N2</td>\n",
       "      <td>5.0</td>\n",
       "    </tr>\n",
       "    <tr>\n",
       "      <th>1</th>\n",
       "      <td>A240FRPD4MEXND</td>\n",
       "      <td>B00KIMX4EY</td>\n",
       "      <td>5.0</td>\n",
       "    </tr>\n",
       "    <tr>\n",
       "      <th>2</th>\n",
       "      <td>A3SBTW3WS4IQSN</td>\n",
       "      <td>B001IF252M</td>\n",
       "      <td>4.0</td>\n",
       "    </tr>\n",
       "    <tr>\n",
       "      <th>3</th>\n",
       "      <td>A1QCZQTJNK3MU</td>\n",
       "      <td>B00J46VVKE</td>\n",
       "      <td>4.0</td>\n",
       "    </tr>\n",
       "    <tr>\n",
       "      <th>4</th>\n",
       "      <td>A16JT7E5121OAB</td>\n",
       "      <td>B00JZC972Q</td>\n",
       "      <td>4.0</td>\n",
       "    </tr>\n",
       "    <tr>\n",
       "      <th>...</th>\n",
       "      <td>...</td>\n",
       "      <td>...</td>\n",
       "      <td>...</td>\n",
       "    </tr>\n",
       "    <tr>\n",
       "      <th>89727</th>\n",
       "      <td>A37Z65SZVT0TVB</td>\n",
       "      <td>B00005AR4L</td>\n",
       "      <td>5.0</td>\n",
       "    </tr>\n",
       "    <tr>\n",
       "      <th>89728</th>\n",
       "      <td>A3PLX6PTM2ERKL</td>\n",
       "      <td>B00004Z6PI</td>\n",
       "      <td>5.0</td>\n",
       "    </tr>\n",
       "    <tr>\n",
       "      <th>89729</th>\n",
       "      <td>A3TRPVAGT3NWBS</td>\n",
       "      <td>B00005NVPW</td>\n",
       "      <td>4.0</td>\n",
       "    </tr>\n",
       "    <tr>\n",
       "      <th>89730</th>\n",
       "      <td>AY8Q1X7G96HV5</td>\n",
       "      <td>B000059MSI</td>\n",
       "      <td>4.0</td>\n",
       "    </tr>\n",
       "    <tr>\n",
       "      <th>89731</th>\n",
       "      <td>A3IBOQ8R44YG9L</td>\n",
       "      <td>B00004TDMX</td>\n",
       "      <td>4.0</td>\n",
       "    </tr>\n",
       "  </tbody>\n",
       "</table>\n",
       "<p>89732 rows × 3 columns</p>\n",
       "</div>"
      ],
      "text/plain": [
       "               UserID   ProductID  Rating\n",
       "0      A2Y3A341VDK37H  B00HFI55N2     5.0\n",
       "1      A240FRPD4MEXND  B00KIMX4EY     5.0\n",
       "2      A3SBTW3WS4IQSN  B001IF252M     4.0\n",
       "3       A1QCZQTJNK3MU  B00J46VVKE     4.0\n",
       "4      A16JT7E5121OAB  B00JZC972Q     4.0\n",
       "...               ...         ...     ...\n",
       "89727  A37Z65SZVT0TVB  B00005AR4L     5.0\n",
       "89728  A3PLX6PTM2ERKL  B00004Z6PI     5.0\n",
       "89729  A3TRPVAGT3NWBS  B00005NVPW     4.0\n",
       "89730   AY8Q1X7G96HV5  B000059MSI     4.0\n",
       "89731  A3IBOQ8R44YG9L  B00004TDMX     4.0\n",
       "\n",
       "[89732 rows x 3 columns]"
      ]
     },
     "execution_count": 11,
     "metadata": {},
     "output_type": "execute_result"
    }
   ],
   "source": [
    "# Preparing submission file\n",
    "Prediction = model.predict([user_values_test,product_values_test])\n",
    "rescaled_Prediction = scaler.inverse_transform(Prediction)\n",
    "if rescaled_Prediction.ndim > 1:\n",
    "    rescaled_Prediction = rescaled_Prediction.reshape(-1)\n",
    "\n",
    "# Check shapes of all components to debug\n",
    "print(f\"Shape of User: {User.shape}\")\n",
    "print(f\"Shape of ID: {ID.shape}\")\n",
    "print(f\"Shape of rescaled_Prediction: {rescaled_Prediction.shape}\")\n",
    "\n",
    "predictions = np.round(rescaled_Prediction)\n",
    "\n",
    "submission = pd.DataFrame({'UserID':User,'ProductID':ID,'Rating':predictions})\n",
    "submission"
   ]
  },
  {
   "cell_type": "code",
   "execution_count": 12,
   "metadata": {},
   "outputs": [
    {
     "data": {
      "text/plain": [
       "4.0    48022\n",
       "5.0    40188\n",
       "3.0     1439\n",
       "2.0       82\n",
       "1.0        1\n",
       "Name: Rating, dtype: int64"
      ]
     },
     "execution_count": 12,
     "metadata": {},
     "output_type": "execute_result"
    }
   ],
   "source": [
    "submission['Rating'].value_counts()"
   ]
  },
  {
   "cell_type": "markdown",
   "metadata": {},
   "source": [
    "### Recommendation"
   ]
  },
  {
   "cell_type": "code",
   "execution_count": 18,
   "metadata": {},
   "outputs": [],
   "source": [
    "# Number of recommendations\n",
    "n_recommendations = 5\n",
    "\n",
    "# Sample user-id \n",
    "user_id = 'A2Y3A341VDK37H'\n",
    "\n",
    "# Step 1: Find items the user hasn't rated yet\n",
    "# Get all unique products\n",
    "encoded_user_id = train[train['UserID'] == user_id]['UserEnc'].iloc[0]\n",
    "rated_products = train[train['UserID'] == user_id]['ProductID'].unique()\n",
    "unrated_products = np.setdiff1d(train['ProductID'].unique(), rated_products)\n",
    "\n",
    "# Step 3: Map unrated products to their encoded values\n",
    "unrated_product_encodings = train[train['ProductID'].isin(unrated_products)][['ProductID', 'ProductEnc']].drop_duplicates()"
   ]
  },
  {
   "cell_type": "code",
   "execution_count": 23,
   "metadata": {},
   "outputs": [
    {
     "name": "stdout",
     "output_type": "stream",
     "text": [
      "Top recommendations for user A2Y3A341VDK37H : ['B00068NUOE', 'B004286VMW', 'B000YAX13Y', 'B00906DHLE', 'B002JVC96Q']\n"
     ]
    }
   ],
   "source": [
    "\n",
    "predictions = []\n",
    "user_inputs = np.array([encoded_user_id] * len(unrated_product_encodings), dtype=np.int32).reshape(-1, 1)\n",
    "product_inputs = np.array(unrated_product_encodings['ProductEnc'].values, dtype=np.int32).reshape(-1, 1)\n",
    "\n",
    "predicted_scores = model.predict_on_batch([user_inputs, product_inputs])\n",
    "\n",
    "# Collect product IDs with their predicted scores\n",
    "for i, score in enumerate(predicted_scores):\n",
    "    predictions.append((unrated_product_encodings.iloc[i]['ProductID'], score[0]))\n",
    "\n",
    "sorted_predictions = sorted(predictions, key=lambda x: x[1], reverse=True)\n",
    "top_n_recommendations = [product[0] for product in sorted_predictions[:n_recommendations]]\n",
    "\n",
    "print(\"Top recommendations for user\", user_id, \":\", top_n_recommendations)"
   ]
  }
 ],
 "metadata": {
  "accelerator": "GPU",
  "colab": {
   "gpuType": "T4",
   "provenance": []
  },
  "kernelspec": {
   "display_name": "Python 3 (ipykernel)",
   "language": "python",
   "name": "python3"
  },
  "language_info": {
   "codemirror_mode": {
    "name": "ipython",
    "version": 3
   },
   "file_extension": ".py",
   "mimetype": "text/x-python",
   "name": "python",
   "nbconvert_exporter": "python",
   "pygments_lexer": "ipython3",
   "version": "3.11.2"
  }
 },
 "nbformat": 4,
 "nbformat_minor": 1
}
