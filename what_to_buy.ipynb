{
 "cells": [
  {
   "cell_type": "markdown",
   "metadata": {},
   "source": [
    "<h1 dir=rtl align=center style=\"line-height:200%;font-family:vazir;color:#0099cc\">\n",
    "<font face=\"vazir\" color=\"#0099cc\">\n",
    "چی بخریم؟\n",
    "</font>\n",
    "</h1>\n",
    "\n",
    "\n",
    "<p dir=rtl style=\"direction: rtl; text-align: justify; line-height:200%; font-family:vazir; font-size:medium\">\n",
    "<font face=\"vazir\" size=3>\n",
    "به یک پروژه‌ی متفاوت و کاربردی خوش آمدید! 🤩 در این مسئله گریزی به <i>سیستم‌های پیشنهاددهنده (Recommender Systems)</i> خواهیم زد و با استفاده از یک معماری یادگیری عمیق خلاقانه، مدلی پیاده خواهیم کرد که بتواند علاقه‌ی یک کاربر به یک کالای مشخص را تخمین بزند. با استفاده از این مدل خواهیم توانست لیستی از کالاها را به کاربر پیشنهاد دهیم که تاکنون آن‌ها را خریداری نکرده اما طبق الگوهایی که مدل بین کاربران و کالاها پیدا کرده به‌احتمال زیاد از آن‌ها خوشش خواهد آمد و به آن‌ها امتیاز بالایی خواهد داد. مجموعه‌داده‌ی پروژه نیز شامل داده‌های واقعی مربوط به کالاهای الکترونیکی موجود در <i>فروشگاه آنلاین آمازون (Amazon)</i> است.\n",
    "</font>\n",
    "</p>\n",
    "\n",
    "<p dir=rtl style=\"direction: rtl; text-align: justify; line-height:200%; font-family:vazir; font-size:medium\">\n",
    "<font color=\"orange\"><b>نکته:</b></font>\n",
    "<font face=\"vazir\" size=3>\n",
    "اگرچه در این پروژه با داده‌های فروشگاه آنلاین سروکار داریم اما این مدل پیشنهاددهنده را می‌توان در دامنه‌های گوناگونی به کار گرفت. به‌عنوان مثال می‌توان سیستمی مشابه جهت پیشنهاد فیلم یا قطعه‌ی موسیقی به کاربران طراحی کرد.\n",
    "</font>\n",
    "</p>"
   ]
  },
  {
   "cell_type": "markdown",
   "metadata": {},
   "source": [
    "<h2 dir=rtl align=right style=\"line-height:200%;font-family:vazir;color:#0099cc\">\n",
    "<font face=\"vazir\" color=\"#0099cc\">\n",
    "مجموعه‌داده\n",
    "</font>\n",
    "</h2>\n",
    "\n",
    "<p dir=rtl style=\"direction: rtl; text-align: justify; line-height:200%; font-family:vazir; font-size:medium\">\n",
    "<font face=\"vazir\" size=3>\n",
    "داده‌های آموزشی در فایل <code dir=ltr>amazon_train.csv</code> در دسترس شما قرار گرفته است. این فایل شامل ۴ ستون است که به‌ترتیب بیانگر شناسه‌ی کاربر، شناسه‌ی محصول، امتیازی که کاربر به محصول داده و زمان ثبت امتیاز هستند. شبکه‌ای که در ادامه پیاده خواهیم کرد شناسه‌ی عددی کاربر و محصول را ورودی می‌گرد و امتیازی که کاربر به آن محصول می‌دهد را تخمین خواهد زد. ابتدا فایل مجموعه‌داده را به‌کمک <code>pandas</code> بخوانید.\n",
    "</font>\n",
    "</p>"
   ]
  },
  {
   "cell_type": "code",
   "execution_count": 2,
   "metadata": {},
   "outputs": [],
   "source": [
    "import numpy as np\n",
    "import pandas as pd\n",
    "\n"
   ]
  },
  {
   "cell_type": "code",
   "execution_count": 3,
   "metadata": {},
   "outputs": [
    {
     "data": {
      "text/html": [
       "<div>\n",
       "<style scoped>\n",
       "    .dataframe tbody tr th:only-of-type {\n",
       "        vertical-align: middle;\n",
       "    }\n",
       "\n",
       "    .dataframe tbody tr th {\n",
       "        vertical-align: top;\n",
       "    }\n",
       "\n",
       "    .dataframe thead th {\n",
       "        text-align: right;\n",
       "    }\n",
       "</style>\n",
       "<table border=\"1\" class=\"dataframe\">\n",
       "  <thead>\n",
       "    <tr style=\"text-align: right;\">\n",
       "      <th></th>\n",
       "      <th>UserID</th>\n",
       "      <th>ProductID</th>\n",
       "      <th>Rating</th>\n",
       "      <th>Timestamp</th>\n",
       "    </tr>\n",
       "  </thead>\n",
       "  <tbody>\n",
       "    <tr>\n",
       "      <th>0</th>\n",
       "      <td>A3HICVLF4PFFMN</td>\n",
       "      <td>0594481813</td>\n",
       "      <td>5.0</td>\n",
       "      <td>2014-05-05</td>\n",
       "    </tr>\n",
       "    <tr>\n",
       "      <th>1</th>\n",
       "      <td>A2QBZA4S1ROX9Q</td>\n",
       "      <td>0594481813</td>\n",
       "      <td>3.0</td>\n",
       "      <td>2013-05-25</td>\n",
       "    </tr>\n",
       "    <tr>\n",
       "      <th>2</th>\n",
       "      <td>AT09WGFUM934H</td>\n",
       "      <td>0594481813</td>\n",
       "      <td>3.0</td>\n",
       "      <td>2013-08-31</td>\n",
       "    </tr>\n",
       "    <tr>\n",
       "      <th>3</th>\n",
       "      <td>AGAKHE014LQFU</td>\n",
       "      <td>0594481813</td>\n",
       "      <td>3.0</td>\n",
       "      <td>2013-09-18</td>\n",
       "    </tr>\n",
       "    <tr>\n",
       "      <th>4</th>\n",
       "      <td>A1S6B5QFWGVL5U</td>\n",
       "      <td>0594481813</td>\n",
       "      <td>4.0</td>\n",
       "      <td>2013-06-27</td>\n",
       "    </tr>\n",
       "  </tbody>\n",
       "</table>\n",
       "</div>"
      ],
      "text/plain": [
       "           UserID   ProductID  Rating   Timestamp\n",
       "0  A3HICVLF4PFFMN  0594481813     5.0  2014-05-05\n",
       "1  A2QBZA4S1ROX9Q  0594481813     3.0  2013-05-25\n",
       "2   AT09WGFUM934H  0594481813     3.0  2013-08-31\n",
       "3   AGAKHE014LQFU  0594481813     3.0  2013-09-18\n",
       "4  A1S6B5QFWGVL5U  0594481813     4.0  2013-06-27"
      ]
     },
     "execution_count": 3,
     "metadata": {},
     "output_type": "execute_result"
    }
   ],
   "source": [
    "# Loading the dataset\n",
    "# TODO\n",
    "\n",
    "train = pd.read_csv(\"data/amazon_train.csv\")\n",
    "valid = pd.read_csv('data/amazon_valid.csv')\n",
    "test = pd.read_csv('data/amazon_test.csv')\n",
    "train.head()"
   ]
  },
  {
   "cell_type": "markdown",
   "metadata": {},
   "source": [
    "<h2 dir=rtl align=right style=\"line-height:200%;font-family:vazir;color:#0099cc\">\n",
    "<font face=\"vazir\" color=\"#0099cc\">\n",
    "پیش‌پردازش\n",
    "</font>\n",
    "</h2>\n",
    "\n",
    "<p dir=rtl style=\"direction: rtl; text-align: justify; line-height:200%; font-family:vazir; font-size:medium\">\n",
    "<font face=\"vazir\" size=3>\n",
    "پس از بررسی و تحلیل داده‌هایی که در اختیارتان گرفته ممکن است به پیش‌پردازش‌های مختلفی نیاز پیدا کنید و ایده‌های گوناگونی را پیاده کنید. با این حال، دو پیش‌پردازش اصلی که حتماً به آن‌ها نیاز خواهید داشت را در ادامه شرح داده‌ایم.\n",
    "</font>\n",
    "</p>\n",
    "\n",
    "<h3 dir=rtl align=right style=\"line-height:200%;font-family:vazir;color:#0099cc\">\n",
    "<font face=\"vazir\" color=\"#0099cc\">\n",
    "کدگذاری\n",
    "</font>\n",
    "</h3>\n",
    "\n",
    "<p dir=rtl style=\"direction: rtl; text-align: justify; line-height:200%; font-family:vazir; font-size:medium\">\n",
    "<font face=\"vazir\" size=3>\n",
    "از آن‌جا که شناسه‌های کاربر (<code dir=ltr>UserID</code>) و محصول (<code dir=ltr>ProductID</code>) به‌صورت رشته‌ای هستند، نیاز است آن‌ها را به‌شکل اعداد مرتب کدگذاری کنیم. بنابراین ابتدا با استفاده از کلاس <code>LabelEncoder</code> موجود در کتابخانه‌ی <code>sklearn</code> هر کدام از این ستون‌ها را کدگذاری کنید. پیشنهاد می‌شود حاصل را در ستون‌های مجزایی به‌نام‌های <code>UserEnc</code> و <code>ProductEnc</code> ذخیره کنید.\n",
    "</font>\n",
    "</p>"
   ]
  },
  {
   "cell_type": "code",
   "execution_count": 4,
   "metadata": {},
   "outputs": [
    {
     "data": {
      "text/html": [
       "<div>\n",
       "<style scoped>\n",
       "    .dataframe tbody tr th:only-of-type {\n",
       "        vertical-align: middle;\n",
       "    }\n",
       "\n",
       "    .dataframe tbody tr th {\n",
       "        vertical-align: top;\n",
       "    }\n",
       "\n",
       "    .dataframe thead th {\n",
       "        text-align: right;\n",
       "    }\n",
       "</style>\n",
       "<table border=\"1\" class=\"dataframe\">\n",
       "  <thead>\n",
       "    <tr style=\"text-align: right;\">\n",
       "      <th></th>\n",
       "      <th>UserID</th>\n",
       "      <th>ProductID</th>\n",
       "      <th>Rating</th>\n",
       "    </tr>\n",
       "  </thead>\n",
       "  <tbody>\n",
       "    <tr>\n",
       "      <th>0</th>\n",
       "      <td>A3HICVLF4PFFMN</td>\n",
       "      <td>0594481813</td>\n",
       "      <td>5.0</td>\n",
       "    </tr>\n",
       "    <tr>\n",
       "      <th>1</th>\n",
       "      <td>A2QBZA4S1ROX9Q</td>\n",
       "      <td>0594481813</td>\n",
       "      <td>3.0</td>\n",
       "    </tr>\n",
       "    <tr>\n",
       "      <th>2</th>\n",
       "      <td>AT09WGFUM934H</td>\n",
       "      <td>0594481813</td>\n",
       "      <td>3.0</td>\n",
       "    </tr>\n",
       "    <tr>\n",
       "      <th>3</th>\n",
       "      <td>AGAKHE014LQFU</td>\n",
       "      <td>0594481813</td>\n",
       "      <td>3.0</td>\n",
       "    </tr>\n",
       "    <tr>\n",
       "      <th>4</th>\n",
       "      <td>A1S6B5QFWGVL5U</td>\n",
       "      <td>0594481813</td>\n",
       "      <td>4.0</td>\n",
       "    </tr>\n",
       "  </tbody>\n",
       "</table>\n",
       "</div>"
      ],
      "text/plain": [
       "           UserID   ProductID  Rating\n",
       "0  A3HICVLF4PFFMN  0594481813     5.0\n",
       "1  A2QBZA4S1ROX9Q  0594481813     3.0\n",
       "2   AT09WGFUM934H  0594481813     3.0\n",
       "3   AGAKHE014LQFU  0594481813     3.0\n",
       "4  A1S6B5QFWGVL5U  0594481813     4.0"
      ]
     },
     "execution_count": 4,
     "metadata": {},
     "output_type": "execute_result"
    }
   ],
   "source": [
    "from imblearn.over_sampling import RandomOverSampler\n",
    "\n",
    "sampling_strategy = {1: round(train['Rating'].value_counts()[1]*2.5),\n",
    "                     2: round(train['Rating'].value_counts()[2]*3),\n",
    "                     3: round(train['Rating'].value_counts()[3]*2)}\n",
    "\n",
    "ros = RandomOverSampler(sampling_strategy=sampling_strategy, random_state=42)\n",
    "X_train_ros, y_train_ros = ros.fit_resample(train[['UserID', 'ProductID']], train['Rating'])\n",
    "\n",
    "train_ros = pd.DataFrame(X_train_ros, columns=['UserID', 'ProductID'])\n",
    "train_ros['Rating'] = y_train_ros\n",
    "\n",
    "train_ros.head()"
   ]
  },
  {
   "cell_type": "code",
   "execution_count": 5,
   "metadata": {},
   "outputs": [],
   "source": [
    "train = train_ros\n",
    "\n",
    "from sklearn.preprocessing import LabelEncoder\n",
    "\n",
    "le_user = LabelEncoder()\n",
    "train['UserEnc'] = le_user.fit_transform(train['UserID'].values)\n",
    "\n",
    "le_product = LabelEncoder()\n",
    "train['ProductEnc'] = le_product.fit_transform(train['ProductID'].values)\n",
    "\n",
    "valid['UserEnc'] = le_user.transform(valid['UserID'].values)\n",
    "valid['ProductEnc'] = le_product.transform(valid['ProductID'].values)\n",
    "\n",
    "test['UserEnc'] = le_user.transform(test['UserID'].values)\n",
    "test['ProductEnc'] = le_product.transform(test['ProductID'].values)"
   ]
  },
  {
   "cell_type": "markdown",
   "metadata": {},
   "source": [
    "<h3 dir=rtl align=right style=\"line-height:200%;font-family:vazir;color:#0099cc\">\n",
    "<font face=\"vazir\" color=\"#0099cc\">\n",
    "نرمال‌سازی\n",
    "</font>\n",
    "</h3>\n",
    "\n",
    "<p dir=rtl style=\"direction: rtl; text-align: justify; line-height:200%; font-family:vazir; font-size:medium\">\n",
    "<font face=\"vazir\" size=3>\n",
    "اکنون مقادیر ستون <code>Rating</code> را به‌کمک <code>MinMaxScaler</code> کتابخانه‌ی <code>sklearn</code> نرمال کنید تا مقادیر آن به بازه‌ی ۰ تا ۱ نگاشت شود.\n",
    "</font>\n",
    "</p>"
   ]
  },
  {
   "cell_type": "code",
   "execution_count": 6,
   "metadata": {
    "colab": {
     "base_uri": "https://localhost:8080/",
     "height": 206
    },
    "id": "8WAJmLCc1hP5",
    "outputId": "75f04964-75d7-4560-8cbb-c0c7c051d299"
   },
   "outputs": [],
   "source": [
    "from sklearn.preprocessing import MinMaxScaler\n",
    "\n",
    "# Scaling the Rating column\n",
    "# TODO\n",
    "\n",
    "scaler = MinMaxScaler()\n",
    "train['Rating'] = scaler.fit_transform(train['Rating'].values.reshape(-1, 1))\n",
    "valid['Rating'] = scaler.transform(valid['Rating'].values.reshape(-1, 1))"
   ]
  },
  {
   "cell_type": "markdown",
   "metadata": {},
   "source": [
    "<h2 dir=rtl align=right style=\"line-height:200%;font-family:vazir;color:#0099cc\">\n",
    "<font face=\"vazir\" color=\"#0099cc\">\n",
    "مدل‌سازی\n",
    "</font>\n",
    "</h2>\n",
    "\n",
    "\n",
    "<p dir=rtl style=\"direction: rtl; text-align: justify; line-height:200%; font-family:vazir; font-size:medium\">\n",
    "<font face=\"vazir\" size=3>\n",
    "حال نوبت به مدل‌سازی می‌رسد. ساختار پیشنهادی ما به این شکل است که شبکه دو ورودی خواهد داشت: شناسه‌ی کاربر و شناسه‌ی کالا. برای هر کدام از این شناسه‌ها یک لایه‌ی تعبیه‌ساز (<code>Embedding</code>) جداگانه در نظر می‌گیریم تا به‌ازای هر کاربر یا کالا، یک بردار تعبیه‌ی بامعنا ساخته شود. خروجی هر لایه‌ی تعبیه به‌کمک یک لایه‌ی <code>Flatten</code> مسطح خواهد شد. پس از این مراحل، دو بردار بازنمایی کالا و کاربر در اختیار شما قرار می‌گیرد و می‌توانید پس از آن معماری دلخواه خود را پیاده کنید. به‌عنوان مثال می‌توانید بردار تعبیه‌ی کالا را در بردار تعبیه‌ی کاربر ضرب نقطه‌ای کنید (به‌کمک لایه‌ی <code>dot</code>) و حاصل را از تابع فعال‌ساز <code>sigmoid</code> عبور دهید تا خروجی شبکه یعنی امتیاز کاربر به آن کالا بین ۰ تا ۱ تولید شود. بنابراین ابتدا این ساختار را به‌کمک مدل تابعی (Functional) کراس پیاده‌سازی کنید.\n",
    "</font>\n",
    "</p>\n",
    "\n",
    "<p dir=rtl style=\"direction: rtl; text-align: justify; line-height:200%; font-family:vazir; font-size:medium\">\n",
    "<font color=\"orange\"><b>نکته:</b></font>\n",
    "<font face=\"vazir\" size=3>\n",
    "دست شما کاملاً برای ایجاد تغییرات در این ساختار باز است. به‌عنوان مثال می‌توانید علاوه بر تولید بردارهای تعبیه، به‌کمک لایه‌های اضافه‌ی <code>Embedding</code> (با اندازه‌ی بردار ۱) یک مقدار بایاس هم برای هر کاربر یا کالا تولید کنید. در نهایت می‌توانید بایاس کاربر، بایاس کالا و حاصل ضرب نقطه‌ای را به‌کمک یک لایه‌ی <code>add</code> جمع کنید. به‌عنوان ایده‌ای دیگر می‌توانید به‌جای آن‌که دو بردار تعبیه را در یکدیگر ضرب کنید از عملیات‌های دیگری همچون الحاق (<code>Concatenate</code>) استفاده کنید. همچنین می‌توانید بر تعداد لایه‌ها بی‌افزایید، یا روش مقداردهی اولیه‌ی وزن‌ها یا رگولاریزیشن هر لایه را تنظیم کنید.\n",
    "</font>\n",
    "</p>"
   ]
  },
  {
   "cell_type": "code",
   "execution_count": 7,
   "metadata": {},
   "outputs": [],
   "source": [
    "from tensorflow.keras.models import Model\n",
    "from tensorflow.keras.layers import Input, Embedding, Flatten, Dot, Dense\n",
    "\n",
    "\n",
    "\n",
    "# Build the model using the Functional API\n",
    "num_users = train['UserEnc'].nunique()\n",
    "num_products = train['ProductEnc'].nunique()\n",
    "embedding_size = 200\n",
    "\n",
    "# User embedding input and layers\n",
    "user_input = Input(shape=(1,), name='user_input')\n",
    "user_embedding = Embedding(input_dim=num_users, output_dim=embedding_size, name='user_embedding')(user_input)\n",
    "user_vector = Flatten(name='user_vector')(user_embedding)\n",
    "\n",
    "# Product embedding input and layers\n",
    "product_input = Input(shape=(1,), name='product_input')\n",
    "product_embedding = Embedding(input_dim=num_products, output_dim=embedding_size, name='product_embedding')(product_input)\n",
    "product_vector = Flatten(name='product_vector')(product_embedding)\n",
    "\n",
    "# Dot product of user and product vectors\n",
    "dot_product = Dot(axes=1, name='dot_product')([user_vector, product_vector])\n",
    "\n",
    "# Output layer with sigmoid activation\n",
    "output = Dense(1, activation='sigmoid', name='output')(dot_product)\n",
    "\n",
    "# Create the final model\n",
    "model = Model(inputs=[user_input, product_input], outputs=output, name='user_product_model')\n",
    "\n"
   ]
  },
  {
   "cell_type": "markdown",
   "metadata": {},
   "source": [
    "<p dir=rtl style=\"direction: rtl; text-align: justify; line-height:200%; font-family:vazir; font-size:medium\">\n",
    "<font face=\"vazir\" size=3>\n",
    "پس از طراحی معماری شبکه، می‌توانید آن را با ورودی دادن یک لیست شامل دو لیست شناسه‌ی کاربر و شناسه‌ی کالا آموزش دهید. متغیر هدف نیز همان ستون <code>Rating</code> خواهد بود. همچنین در صورتی‌که در لایه‌ی آخر از تابع فعال‌ساز <code>sigmoid</code> برای نورون خروجی استفاده کرده باشید می‌توانید از تابع زیان <code>binary_crossentropy</code> بهره ببرید. در صورت علاقه و نیاز می‌توانید از هر تکنیک دلخواهی در فرآیند آموزش مدل خود استفاده کنید.\n",
    "</font>\n",
    "</p>"
   ]
  },
  {
   "cell_type": "code",
   "execution_count": 8,
   "metadata": {},
   "outputs": [
    {
     "data": {
      "text/html": [
       "<pre style=\"white-space:pre;overflow-x:auto;line-height:normal;font-family:Menlo,'DejaVu Sans Mono',consolas,'Courier New',monospace\"><span style=\"font-weight: bold\">Model: \"user_product_model\"</span>\n",
       "</pre>\n"
      ],
      "text/plain": [
       "\u001b[1mModel: \"user_product_model\"\u001b[0m\n"
      ]
     },
     "metadata": {},
     "output_type": "display_data"
    },
    {
     "data": {
      "text/html": [
       "<pre style=\"white-space:pre;overflow-x:auto;line-height:normal;font-family:Menlo,'DejaVu Sans Mono',consolas,'Courier New',monospace\">┏━━━━━━━━━━━━━━━━━━━━━━━━━━━━━━━┳━━━━━━━━━━━━━━━━━━━━━━━━━━━┳━━━━━━━━━━━━━━━━━┳━━━━━━━━━━━━━━━━━━━━━━━━━━━━┓\n",
       "┃<span style=\"font-weight: bold\"> Layer (type)                  </span>┃<span style=\"font-weight: bold\"> Output Shape              </span>┃<span style=\"font-weight: bold\">         Param # </span>┃<span style=\"font-weight: bold\"> Connected to               </span>┃\n",
       "┡━━━━━━━━━━━━━━━━━━━━━━━━━━━━━━━╇━━━━━━━━━━━━━━━━━━━━━━━━━━━╇━━━━━━━━━━━━━━━━━╇━━━━━━━━━━━━━━━━━━━━━━━━━━━━┩\n",
       "│ user_input (<span style=\"color: #0087ff; text-decoration-color: #0087ff\">InputLayer</span>)       │ (<span style=\"color: #00d7ff; text-decoration-color: #00d7ff\">None</span>, <span style=\"color: #00af00; text-decoration-color: #00af00\">1</span>)                 │               <span style=\"color: #00af00; text-decoration-color: #00af00\">0</span> │ -                          │\n",
       "├───────────────────────────────┼───────────────────────────┼─────────────────┼────────────────────────────┤\n",
       "│ product_input (<span style=\"color: #0087ff; text-decoration-color: #0087ff\">InputLayer</span>)    │ (<span style=\"color: #00d7ff; text-decoration-color: #00d7ff\">None</span>, <span style=\"color: #00af00; text-decoration-color: #00af00\">1</span>)                 │               <span style=\"color: #00af00; text-decoration-color: #00af00\">0</span> │ -                          │\n",
       "├───────────────────────────────┼───────────────────────────┼─────────────────┼────────────────────────────┤\n",
       "│ user_embedding (<span style=\"color: #0087ff; text-decoration-color: #0087ff\">Embedding</span>)    │ (<span style=\"color: #00d7ff; text-decoration-color: #00d7ff\">None</span>, <span style=\"color: #00af00; text-decoration-color: #00af00\">1</span>, <span style=\"color: #00af00; text-decoration-color: #00af00\">200</span>)            │      <span style=\"color: #00af00; text-decoration-color: #00af00\">18,010,000</span> │ user_input[<span style=\"color: #00af00; text-decoration-color: #00af00\">0</span>][<span style=\"color: #00af00; text-decoration-color: #00af00\">0</span>]           │\n",
       "├───────────────────────────────┼───────────────────────────┼─────────────────┼────────────────────────────┤\n",
       "│ product_embedding (<span style=\"color: #0087ff; text-decoration-color: #0087ff\">Embedding</span>) │ (<span style=\"color: #00d7ff; text-decoration-color: #00d7ff\">None</span>, <span style=\"color: #00af00; text-decoration-color: #00af00\">1</span>, <span style=\"color: #00af00; text-decoration-color: #00af00\">200</span>)            │       <span style=\"color: #00af00; text-decoration-color: #00af00\">9,753,800</span> │ product_input[<span style=\"color: #00af00; text-decoration-color: #00af00\">0</span>][<span style=\"color: #00af00; text-decoration-color: #00af00\">0</span>]        │\n",
       "├───────────────────────────────┼───────────────────────────┼─────────────────┼────────────────────────────┤\n",
       "│ user_vector (<span style=\"color: #0087ff; text-decoration-color: #0087ff\">Flatten</span>)         │ (<span style=\"color: #00d7ff; text-decoration-color: #00d7ff\">None</span>, <span style=\"color: #00af00; text-decoration-color: #00af00\">200</span>)               │               <span style=\"color: #00af00; text-decoration-color: #00af00\">0</span> │ user_embedding[<span style=\"color: #00af00; text-decoration-color: #00af00\">0</span>][<span style=\"color: #00af00; text-decoration-color: #00af00\">0</span>]       │\n",
       "├───────────────────────────────┼───────────────────────────┼─────────────────┼────────────────────────────┤\n",
       "│ product_vector (<span style=\"color: #0087ff; text-decoration-color: #0087ff\">Flatten</span>)      │ (<span style=\"color: #00d7ff; text-decoration-color: #00d7ff\">None</span>, <span style=\"color: #00af00; text-decoration-color: #00af00\">200</span>)               │               <span style=\"color: #00af00; text-decoration-color: #00af00\">0</span> │ product_embedding[<span style=\"color: #00af00; text-decoration-color: #00af00\">0</span>][<span style=\"color: #00af00; text-decoration-color: #00af00\">0</span>]    │\n",
       "├───────────────────────────────┼───────────────────────────┼─────────────────┼────────────────────────────┤\n",
       "│ dot_product (<span style=\"color: #0087ff; text-decoration-color: #0087ff\">Dot</span>)             │ (<span style=\"color: #00d7ff; text-decoration-color: #00d7ff\">None</span>, <span style=\"color: #00af00; text-decoration-color: #00af00\">1</span>)                 │               <span style=\"color: #00af00; text-decoration-color: #00af00\">0</span> │ user_vector[<span style=\"color: #00af00; text-decoration-color: #00af00\">0</span>][<span style=\"color: #00af00; text-decoration-color: #00af00\">0</span>],         │\n",
       "│                               │                           │                 │ product_vector[<span style=\"color: #00af00; text-decoration-color: #00af00\">0</span>][<span style=\"color: #00af00; text-decoration-color: #00af00\">0</span>]       │\n",
       "├───────────────────────────────┼───────────────────────────┼─────────────────┼────────────────────────────┤\n",
       "│ output (<span style=\"color: #0087ff; text-decoration-color: #0087ff\">Dense</span>)                │ (<span style=\"color: #00d7ff; text-decoration-color: #00d7ff\">None</span>, <span style=\"color: #00af00; text-decoration-color: #00af00\">1</span>)                 │               <span style=\"color: #00af00; text-decoration-color: #00af00\">2</span> │ dot_product[<span style=\"color: #00af00; text-decoration-color: #00af00\">0</span>][<span style=\"color: #00af00; text-decoration-color: #00af00\">0</span>]          │\n",
       "└───────────────────────────────┴───────────────────────────┴─────────────────┴────────────────────────────┘\n",
       "</pre>\n"
      ],
      "text/plain": [
       "┏━━━━━━━━━━━━━━━━━━━━━━━━━━━━━━━┳━━━━━━━━━━━━━━━━━━━━━━━━━━━┳━━━━━━━━━━━━━━━━━┳━━━━━━━━━━━━━━━━━━━━━━━━━━━━┓\n",
       "┃\u001b[1m \u001b[0m\u001b[1mLayer (type)                 \u001b[0m\u001b[1m \u001b[0m┃\u001b[1m \u001b[0m\u001b[1mOutput Shape             \u001b[0m\u001b[1m \u001b[0m┃\u001b[1m \u001b[0m\u001b[1m        Param #\u001b[0m\u001b[1m \u001b[0m┃\u001b[1m \u001b[0m\u001b[1mConnected to              \u001b[0m\u001b[1m \u001b[0m┃\n",
       "┡━━━━━━━━━━━━━━━━━━━━━━━━━━━━━━━╇━━━━━━━━━━━━━━━━━━━━━━━━━━━╇━━━━━━━━━━━━━━━━━╇━━━━━━━━━━━━━━━━━━━━━━━━━━━━┩\n",
       "│ user_input (\u001b[38;5;33mInputLayer\u001b[0m)       │ (\u001b[38;5;45mNone\u001b[0m, \u001b[38;5;34m1\u001b[0m)                 │               \u001b[38;5;34m0\u001b[0m │ -                          │\n",
       "├───────────────────────────────┼───────────────────────────┼─────────────────┼────────────────────────────┤\n",
       "│ product_input (\u001b[38;5;33mInputLayer\u001b[0m)    │ (\u001b[38;5;45mNone\u001b[0m, \u001b[38;5;34m1\u001b[0m)                 │               \u001b[38;5;34m0\u001b[0m │ -                          │\n",
       "├───────────────────────────────┼───────────────────────────┼─────────────────┼────────────────────────────┤\n",
       "│ user_embedding (\u001b[38;5;33mEmbedding\u001b[0m)    │ (\u001b[38;5;45mNone\u001b[0m, \u001b[38;5;34m1\u001b[0m, \u001b[38;5;34m200\u001b[0m)            │      \u001b[38;5;34m18,010,000\u001b[0m │ user_input[\u001b[38;5;34m0\u001b[0m][\u001b[38;5;34m0\u001b[0m]           │\n",
       "├───────────────────────────────┼───────────────────────────┼─────────────────┼────────────────────────────┤\n",
       "│ product_embedding (\u001b[38;5;33mEmbedding\u001b[0m) │ (\u001b[38;5;45mNone\u001b[0m, \u001b[38;5;34m1\u001b[0m, \u001b[38;5;34m200\u001b[0m)            │       \u001b[38;5;34m9,753,800\u001b[0m │ product_input[\u001b[38;5;34m0\u001b[0m][\u001b[38;5;34m0\u001b[0m]        │\n",
       "├───────────────────────────────┼───────────────────────────┼─────────────────┼────────────────────────────┤\n",
       "│ user_vector (\u001b[38;5;33mFlatten\u001b[0m)         │ (\u001b[38;5;45mNone\u001b[0m, \u001b[38;5;34m200\u001b[0m)               │               \u001b[38;5;34m0\u001b[0m │ user_embedding[\u001b[38;5;34m0\u001b[0m][\u001b[38;5;34m0\u001b[0m]       │\n",
       "├───────────────────────────────┼───────────────────────────┼─────────────────┼────────────────────────────┤\n",
       "│ product_vector (\u001b[38;5;33mFlatten\u001b[0m)      │ (\u001b[38;5;45mNone\u001b[0m, \u001b[38;5;34m200\u001b[0m)               │               \u001b[38;5;34m0\u001b[0m │ product_embedding[\u001b[38;5;34m0\u001b[0m][\u001b[38;5;34m0\u001b[0m]    │\n",
       "├───────────────────────────────┼───────────────────────────┼─────────────────┼────────────────────────────┤\n",
       "│ dot_product (\u001b[38;5;33mDot\u001b[0m)             │ (\u001b[38;5;45mNone\u001b[0m, \u001b[38;5;34m1\u001b[0m)                 │               \u001b[38;5;34m0\u001b[0m │ user_vector[\u001b[38;5;34m0\u001b[0m][\u001b[38;5;34m0\u001b[0m],         │\n",
       "│                               │                           │                 │ product_vector[\u001b[38;5;34m0\u001b[0m][\u001b[38;5;34m0\u001b[0m]       │\n",
       "├───────────────────────────────┼───────────────────────────┼─────────────────┼────────────────────────────┤\n",
       "│ output (\u001b[38;5;33mDense\u001b[0m)                │ (\u001b[38;5;45mNone\u001b[0m, \u001b[38;5;34m1\u001b[0m)                 │               \u001b[38;5;34m2\u001b[0m │ dot_product[\u001b[38;5;34m0\u001b[0m][\u001b[38;5;34m0\u001b[0m]          │\n",
       "└───────────────────────────────┴───────────────────────────┴─────────────────┴────────────────────────────┘\n"
      ]
     },
     "metadata": {},
     "output_type": "display_data"
    },
    {
     "data": {
      "text/html": [
       "<pre style=\"white-space:pre;overflow-x:auto;line-height:normal;font-family:Menlo,'DejaVu Sans Mono',consolas,'Courier New',monospace\"><span style=\"font-weight: bold\"> Total params: </span><span style=\"color: #00af00; text-decoration-color: #00af00\">27,763,802</span> (105.91 MB)\n",
       "</pre>\n"
      ],
      "text/plain": [
       "\u001b[1m Total params: \u001b[0m\u001b[38;5;34m27,763,802\u001b[0m (105.91 MB)\n"
      ]
     },
     "metadata": {},
     "output_type": "display_data"
    },
    {
     "data": {
      "text/html": [
       "<pre style=\"white-space:pre;overflow-x:auto;line-height:normal;font-family:Menlo,'DejaVu Sans Mono',consolas,'Courier New',monospace\"><span style=\"font-weight: bold\"> Trainable params: </span><span style=\"color: #00af00; text-decoration-color: #00af00\">27,763,802</span> (105.91 MB)\n",
       "</pre>\n"
      ],
      "text/plain": [
       "\u001b[1m Trainable params: \u001b[0m\u001b[38;5;34m27,763,802\u001b[0m (105.91 MB)\n"
      ]
     },
     "metadata": {},
     "output_type": "display_data"
    },
    {
     "data": {
      "text/html": [
       "<pre style=\"white-space:pre;overflow-x:auto;line-height:normal;font-family:Menlo,'DejaVu Sans Mono',consolas,'Courier New',monospace\"><span style=\"font-weight: bold\"> Non-trainable params: </span><span style=\"color: #00af00; text-decoration-color: #00af00\">0</span> (0.00 B)\n",
       "</pre>\n"
      ],
      "text/plain": [
       "\u001b[1m Non-trainable params: \u001b[0m\u001b[38;5;34m0\u001b[0m (0.00 B)\n"
      ]
     },
     "metadata": {},
     "output_type": "display_data"
    }
   ],
   "source": [
    "# Training phase\n",
    "# TODO\n",
    "# Compiling the model\n",
    "model.compile(optimizer='adam', loss='binary_crossentropy', metrics=['accuracy'])\n",
    "\n",
    "# Model summary\n",
    "model.summary()\n"
   ]
  },
  {
   "cell_type": "markdown",
   "metadata": {},
   "source": [
    "<h2 dir=rtl align=right style=\"line-height:200%;font-family:vazir;color:#0099cc\">\n",
    "<font face=\"vazir\" color=\"#0099cc\">\n",
    "پیش‌بینی\n",
    "</font>\n",
    "</h2>\n",
    "\n",
    "<p dir=rtl style=\"direction: rtl; text-align: justify; line-height:200%; font-family:vazir; font-size:medium\">\n",
    "<font face=\"vazir\" size=3>\n",
    "دو فایل دیگر به نام‌های <code>amazon_valid.csv</code> و <code>amazon_test.csv</code> نیز به‌عنوان مجموعه‌ی اعتبارسنجی و آزمون در اختیار شما قرار گرفته است. مدل شما باید بتواند به‌ازای هر جفت کاربر و کالا، امتیازی که آن کاربر به آن کالا می‌دهد را به‌درستی تخمین بزند. ساختار این مجموعه‌ها نیز مشابه با مجموعه‌ی آموزشی است با این تفاوت که برچسب حقیقی داده‌های آزمون در دسترس شما نیست و ارزیابی مدل شما بر روی داده‌های آزمون در سامانه‌ی داوری کوئرا انجام می‌پذیرد. با این حال، توزیع داده‌ها بین مجموعه‌ی اعتبارسنجی و آزمون بسیار مشابه است و اگر مدل شما برای نمونه‌های اعتبارسنجی به عملکرد قابل قبولی برسد به احتمال زیاد برای نمونه‌های آزمون نیز همین‌گونه خواهد بود.\n",
    "</font>\n",
    "</p>\n",
    "\n",
    "\n",
    "<h3 dir=rtl align=right style=\"line-height:200%;font-family:vazir;color:#0099cc\">\n",
    "<font face=\"vazir\" color=\"#0099cc\">\n",
    "معیار ارزیابی\n",
    "</font>\n",
    "</h3>\n",
    "\n",
    "<p dir=rtl style=\"direction: rtl; text-align: justify; line-height:200%; font-family:vazir; font-size:medium\">\n",
    "<font face=\"vazir\" size=3>\n",
    "هدفی که در این نوع مسئله در نظر گرفته‌ایم این است که مدل شما تا چه‌اندازه می‌تواند کالاهایی که کاربر به آن‌ها امتیاز بالا (۴ یا ۵) می‌دهد را به‌درستی تشخیص دهد، بنابراین\n",
    "عملکرد مدل شما در سامانه‌ی داوری به این‌گونه ارزیابی خواهد شد که برچسب‌های <code>5</code> و <code>4</code> به‌عنوان دسته‌ی مثبت و سایر برچسب‌ها به‌عنوان دسته‌ی منفی در نظر گرفته می‌شود.\n",
    "سپس از معیار <code>Precision</code> جهت ارزیابی مدل شما استفاده خواهد شد که در واقع نسبت تعداد پیشنهادات مثبت درست (مدل تشخیص داده که کاربر به کالا امتیاز بالا می‌دهد و واقعاً این‌گونه بوده) به کل پیشنهادات مثبت مدل را می‌شمارد.\n",
    "</font>\n",
    "</p>\n",
    "\n",
    "<p dir=rtl style=\"direction: rtl; text-align: justify; line-height:200%; font-family:vazir; font-size:medium\">\n",
    "<font color=\"red\"><b color='red'>توجه:</b></font>\n",
    "<font face=\"vazir\" size=3>\n",
    " جهت کسب امتیاز کامل نیاز است تا پاسخ شما حداقل امتیاز <code>80</code> را با توجه به معیار معرفی‌شده کسب نماید.\n",
    "</font>\n",
    "</p>"
   ]
  },
  {
   "cell_type": "code",
   "execution_count": 9,
   "metadata": {},
   "outputs": [],
   "source": [
    "user_ids = train['UserEnc'].values\n",
    "product_ids = train['ProductEnc'].values\n",
    "ratings = train['Rating'].values\n",
    "\n",
    "\n",
    "valid_user_ids = valid['UserEnc'].values\n",
    "valid_product_ids = valid['ProductEnc'].values\n",
    "valid_ratings = valid['Rating'].values"
   ]
  },
  {
   "cell_type": "code",
   "execution_count": 10,
   "metadata": {},
   "outputs": [
    {
     "name": "stdout",
     "output_type": "stream",
     "text": [
      "Epoch 1/10\n",
      "\u001b[1m1123/1123\u001b[0m \u001b[32m━━━━━━━━━━━━━━━━━━━━\u001b[0m\u001b[37m\u001b[0m \u001b[1m341s\u001b[0m 301ms/step - accuracy: 0.4719 - loss: 0.6473 - val_accuracy: 0.6138 - val_loss: 0.5144\n",
      "Epoch 2/10\n",
      "\u001b[1m1123/1123\u001b[0m \u001b[32m━━━━━━━━━━━━━━━━━━━━\u001b[0m\u001b[37m\u001b[0m \u001b[1m375s\u001b[0m 295ms/step - accuracy: 0.5791 - loss: 0.3749 - val_accuracy: 0.6123 - val_loss: 0.4853\n",
      "Epoch 3/10\n",
      "\u001b[1m1123/1123\u001b[0m \u001b[32m━━━━━━━━━━━━━━━━━━━━\u001b[0m\u001b[37m\u001b[0m \u001b[1m401s\u001b[0m 357ms/step - accuracy: 0.5871 - loss: 0.2781 - val_accuracy: 0.6121 - val_loss: 0.4864\n",
      "Epoch 4/10\n",
      "\u001b[1m1123/1123\u001b[0m \u001b[32m━━━━━━━━━━━━━━━━━━━━\u001b[0m\u001b[37m\u001b[0m \u001b[1m493s\u001b[0m 402ms/step - accuracy: 0.5866 - loss: 0.2786 - val_accuracy: 0.6122 - val_loss: 0.4869\n",
      "Epoch 5/10\n",
      "\u001b[1m1123/1123\u001b[0m \u001b[32m━━━━━━━━━━━━━━━━━━━━\u001b[0m\u001b[37m\u001b[0m \u001b[1m409s\u001b[0m 364ms/step - accuracy: 0.5861 - loss: 0.2764 - val_accuracy: 0.6129 - val_loss: 0.4870\n",
      "Epoch 6/10\n",
      "\u001b[1m1123/1123\u001b[0m \u001b[32m━━━━━━━━━━━━━━━━━━━━\u001b[0m\u001b[37m\u001b[0m \u001b[1m354s\u001b[0m 315ms/step - accuracy: 0.5875 - loss: 0.2696 - val_accuracy: 0.6124 - val_loss: 0.4878\n",
      "Epoch 7/10\n",
      "\u001b[1m1123/1123\u001b[0m \u001b[32m━━━━━━━━━━━━━━━━━━━━\u001b[0m\u001b[37m\u001b[0m \u001b[1m402s\u001b[0m 358ms/step - accuracy: 0.5870 - loss: 0.2700 - val_accuracy: 0.6128 - val_loss: 0.4883\n",
      "Epoch 8/10\n",
      "\u001b[1m1123/1123\u001b[0m \u001b[32m━━━━━━━━━━━━━━━━━━━━\u001b[0m\u001b[37m\u001b[0m \u001b[1m441s\u001b[0m 393ms/step - accuracy: 0.5866 - loss: 0.2666 - val_accuracy: 0.6124 - val_loss: 0.4892\n",
      "Epoch 9/10\n",
      "\u001b[1m1123/1123\u001b[0m \u001b[32m━━━━━━━━━━━━━━━━━━━━\u001b[0m\u001b[37m\u001b[0m \u001b[1m468s\u001b[0m 417ms/step - accuracy: 0.5873 - loss: 0.2673 - val_accuracy: 0.6126 - val_loss: 0.4901\n",
      "Epoch 10/10\n",
      "\u001b[1m1123/1123\u001b[0m \u001b[32m━━━━━━━━━━━━━━━━━━━━\u001b[0m\u001b[37m\u001b[0m \u001b[1m500s\u001b[0m 415ms/step - accuracy: 0.5864 - loss: 0.2648 - val_accuracy: 0.6123 - val_loss: 0.4908\n"
     ]
    }
   ],
   "source": [
    "history = model.fit(\n",
    "    [user_ids, product_ids],  \n",
    "    ratings,\n",
    "    validation_data=([valid_user_ids, valid_product_ids], valid_ratings),  \n",
    "    epochs=10,\n",
    "    batch_size=1024\n",
    ")"
   ]
  },
  {
   "cell_type": "markdown",
   "metadata": {},
   "source": [
    "<h3 align=right style=\"line-height:200%;font-family:vazir;color:#0099cc\">\n",
    "<font face=\"vazir\" color=\"#0099cc\">\n",
    "ساختار خروجی برای نمونه‌های آزمون\n",
    "</font>\n",
    "</h3>\n",
    "\n",
    "<p dir=rtl style=\"direction: rtl; text-align: justify; line-height:200%; font-family:vazir; font-size:medium\">\n",
    "<font face=\"vazir\" size=3>\n",
    " پیش‌بینی مدل خود را برای نمونه‌های آزمون به‌شکل امتیازی بین ۱ تا ۵ تولید کرده و در ستون <code>Rating</code> یک دیتافریم با نام <code>submission</code> در قالب جدول زیر ذخیره کنید.\n",
    "</font>\n",
    "</p>\n",
    "\n",
    "<center>\n",
    "<div dir=rtl style=\"direction: rtl;line-height:200%;font-family:vazir;font-size:medium\">\n",
    "<font face=\"vazir\" size=3>\n",
    "    \n",
    "|ستون|توضیحات|\n",
    "|:------:|:---:|\n",
    "|<code>UserID</code>|شناسه‌ی کاربر (مشابه با نمونه‌ی آزمون)|\n",
    "|<code>ProductID</code>|شناسه‌ی کالا (مشابه با نمونه‌ی آزمون)|\n",
    "|<code>Rating</code>|امتیاز کاربر به کالا از ۱ تا ۵ (پیش‌بینی مدل)|\n",
    "    \n",
    "</font>\n",
    "</div>\n",
    "</center>"
   ]
  },
  {
   "cell_type": "code",
   "execution_count": 11,
   "metadata": {},
   "outputs": [],
   "source": [
    "user_values_test = test['UserEnc'].values\n",
    "product_values_test = test['ProductEnc'].values\n",
    "\n",
    "ID = test['ProductID']\n",
    "User = test['UserID']"
   ]
  },
  {
   "cell_type": "code",
   "execution_count": 14,
   "metadata": {},
   "outputs": [
    {
     "name": "stdout",
     "output_type": "stream",
     "text": [
      "\u001b[1m2805/2805\u001b[0m \u001b[32m━━━━━━━━━━━━━━━━━━━━\u001b[0m\u001b[37m\u001b[0m \u001b[1m8s\u001b[0m 3ms/step\n",
      "Shape of User: (89732,)\n",
      "Shape of ID: (89732,)\n",
      "Shape of rescaled_Prediction: (89732,)\n"
     ]
    },
    {
     "data": {
      "text/html": [
       "<div>\n",
       "<style scoped>\n",
       "    .dataframe tbody tr th:only-of-type {\n",
       "        vertical-align: middle;\n",
       "    }\n",
       "\n",
       "    .dataframe tbody tr th {\n",
       "        vertical-align: top;\n",
       "    }\n",
       "\n",
       "    .dataframe thead th {\n",
       "        text-align: right;\n",
       "    }\n",
       "</style>\n",
       "<table border=\"1\" class=\"dataframe\">\n",
       "  <thead>\n",
       "    <tr style=\"text-align: right;\">\n",
       "      <th></th>\n",
       "      <th>UserID</th>\n",
       "      <th>ProductID</th>\n",
       "      <th>Rating</th>\n",
       "    </tr>\n",
       "  </thead>\n",
       "  <tbody>\n",
       "    <tr>\n",
       "      <th>0</th>\n",
       "      <td>A2Y3A341VDK37H</td>\n",
       "      <td>B00HFI55N2</td>\n",
       "      <td>4.0</td>\n",
       "    </tr>\n",
       "    <tr>\n",
       "      <th>1</th>\n",
       "      <td>A240FRPD4MEXND</td>\n",
       "      <td>B00KIMX4EY</td>\n",
       "      <td>5.0</td>\n",
       "    </tr>\n",
       "    <tr>\n",
       "      <th>2</th>\n",
       "      <td>A3SBTW3WS4IQSN</td>\n",
       "      <td>B001IF252M</td>\n",
       "      <td>4.0</td>\n",
       "    </tr>\n",
       "    <tr>\n",
       "      <th>3</th>\n",
       "      <td>A1QCZQTJNK3MU</td>\n",
       "      <td>B00J46VVKE</td>\n",
       "      <td>4.0</td>\n",
       "    </tr>\n",
       "    <tr>\n",
       "      <th>4</th>\n",
       "      <td>A16JT7E5121OAB</td>\n",
       "      <td>B00JZC972Q</td>\n",
       "      <td>4.0</td>\n",
       "    </tr>\n",
       "    <tr>\n",
       "      <th>...</th>\n",
       "      <td>...</td>\n",
       "      <td>...</td>\n",
       "      <td>...</td>\n",
       "    </tr>\n",
       "    <tr>\n",
       "      <th>89727</th>\n",
       "      <td>A37Z65SZVT0TVB</td>\n",
       "      <td>B00005AR4L</td>\n",
       "      <td>4.0</td>\n",
       "    </tr>\n",
       "    <tr>\n",
       "      <th>89728</th>\n",
       "      <td>A3PLX6PTM2ERKL</td>\n",
       "      <td>B00004Z6PI</td>\n",
       "      <td>5.0</td>\n",
       "    </tr>\n",
       "    <tr>\n",
       "      <th>89729</th>\n",
       "      <td>A3TRPVAGT3NWBS</td>\n",
       "      <td>B00005NVPW</td>\n",
       "      <td>4.0</td>\n",
       "    </tr>\n",
       "    <tr>\n",
       "      <th>89730</th>\n",
       "      <td>AY8Q1X7G96HV5</td>\n",
       "      <td>B000059MSI</td>\n",
       "      <td>4.0</td>\n",
       "    </tr>\n",
       "    <tr>\n",
       "      <th>89731</th>\n",
       "      <td>A3IBOQ8R44YG9L</td>\n",
       "      <td>B00004TDMX</td>\n",
       "      <td>4.0</td>\n",
       "    </tr>\n",
       "  </tbody>\n",
       "</table>\n",
       "<p>89732 rows × 3 columns</p>\n",
       "</div>"
      ],
      "text/plain": [
       "               UserID   ProductID  Rating\n",
       "0      A2Y3A341VDK37H  B00HFI55N2     4.0\n",
       "1      A240FRPD4MEXND  B00KIMX4EY     5.0\n",
       "2      A3SBTW3WS4IQSN  B001IF252M     4.0\n",
       "3       A1QCZQTJNK3MU  B00J46VVKE     4.0\n",
       "4      A16JT7E5121OAB  B00JZC972Q     4.0\n",
       "...               ...         ...     ...\n",
       "89727  A37Z65SZVT0TVB  B00005AR4L     4.0\n",
       "89728  A3PLX6PTM2ERKL  B00004Z6PI     5.0\n",
       "89729  A3TRPVAGT3NWBS  B00005NVPW     4.0\n",
       "89730   AY8Q1X7G96HV5  B000059MSI     4.0\n",
       "89731  A3IBOQ8R44YG9L  B00004TDMX     4.0\n",
       "\n",
       "[89732 rows x 3 columns]"
      ]
     },
     "execution_count": 14,
     "metadata": {},
     "output_type": "execute_result"
    }
   ],
   "source": [
    "# Preparing submission file\n",
    "Prediction = model.predict([user_values_test,product_values_test])\n",
    "rescaled_Prediction = scaler.inverse_transform(Prediction)\n",
    "if rescaled_Prediction.ndim > 1:\n",
    "    rescaled_Prediction = rescaled_Prediction.reshape(-1)\n",
    "\n",
    "# Check shapes of all components to debug\n",
    "print(f\"Shape of User: {User.shape}\")\n",
    "print(f\"Shape of ID: {ID.shape}\")\n",
    "print(f\"Shape of rescaled_Prediction: {rescaled_Prediction.shape}\")\n",
    "\n",
    "predictions = np.round(rescaled_Prediction)\n",
    "\n",
    "submission = pd.DataFrame({'UserID':User,'ProductID':ID,'Rating':predictions})\n",
    "submission"
   ]
  },
  {
   "cell_type": "code",
   "execution_count": 19,
   "metadata": {},
   "outputs": [
    {
     "data": {
      "text/plain": [
       "4.0    48445\n",
       "5.0    39699\n",
       "3.0     1491\n",
       "2.0       95\n",
       "1.0        2\n",
       "Name: Rating, dtype: int64"
      ]
     },
     "execution_count": 19,
     "metadata": {},
     "output_type": "execute_result"
    }
   ],
   "source": [
    "submission['Rating'].value_counts()"
   ]
  },
  {
   "cell_type": "code",
   "execution_count": 16,
   "metadata": {},
   "outputs": [
    {
     "name": "stdout",
     "output_type": "stream",
     "text": [
      "\u001b[1m2810/2810\u001b[0m \u001b[32m━━━━━━━━━━━━━━━━━━━━\u001b[0m\u001b[37m\u001b[0m \u001b[1m10s\u001b[0m 3ms/step\n",
      "0.0\n"
     ]
    }
   ],
   "source": [
    "from sklearn.metrics import precision_score\n",
    "\n",
    "predictions = model.predict([valid_user_ids, valid_product_ids])\n",
    "predictions = scaler.inverse_transform(predictions)\n",
    "predictions = np.round(predictions)\n",
    "predictions[predictions < 4] = 0\n",
    "predictions[predictions >= 4] = 1\n",
    "\n",
    "true_rating = valid['Rating'].values.copy()\n",
    "true_rating[true_rating < 4] = 0\n",
    "true_rating[true_rating >= 4] = 1\n",
    "\n",
    "result = precision_score(true_rating, predictions) * 100\n",
    "print(result)"
   ]
  },
  {
   "cell_type": "markdown",
   "metadata": {},
   "source": [
    "<h2 align=right style=\"line-height:200%;font-family:vazir;color:#0099cc\">\n",
    "<font face=\"vazir\" color=\"#0099cc\">\n",
    "<b>سلول جواب‌ساز</b>\n",
    "</font>\n",
    "</h2>\n",
    "\n",
    "<p dir=rtl style=\"direction: rtl; text-align: justify; line-height:200%; font-family:vazir; font-size:medium\">\n",
    "<font face=\"vazir\" size=3>\n",
    "    برای ساخته‌شدن فایل <code>result.zip</code> سلول زیر را اجرا کنید. توجه داشته باشید که پیش از اجرای سلول زیر تغییرات اعمال شده در نت‌بوک را ذخیره کرده باشید (<code>ctrl+s</code>) تا در صورت نیاز به پشتیبانی امکان بررسی کد شما وجود داشته باشد. همچنین اگر از گوگل کولب استفاده می‌کنید، در صورت نیاز به پشتیبانی حتماً آخرین نسخه از نت‌بوک را به‌صورت دستی دانلود کرده و داخل فایل ارسالی قرار دهید یا لینک کولب را با ما به‌اشتراک بگذارید.\n",
    "</font>\n",
    "</p>"
   ]
  },
  {
   "cell_type": "code",
   "execution_count": 17,
   "metadata": {},
   "outputs": [
    {
     "name": "stdout",
     "output_type": "stream",
     "text": [
      "File Paths:\n",
      "['what_to_buy.ipynb', 'submission.csv']\n"
     ]
    }
   ],
   "source": [
    "import zipfile\n",
    "import joblib\n",
    "import os\n",
    "\n",
    "if not os.path.exists(os.path.join(os.getcwd(), 'what_to_buy.ipynb')):\n",
    "    %notebook -e what_to_buy.ipynb\n",
    "\n",
    "def compress(file_names):\n",
    "    print(\"File Paths:\")\n",
    "    print(file_names)\n",
    "    compression = zipfile.ZIP_DEFLATED\n",
    "    with zipfile.ZipFile(\"result.zip\", mode=\"w\") as zf:\n",
    "        for file_name in file_names:\n",
    "            zf.write('./' + file_name, file_name, compress_type=compression)\n",
    "\n",
    "submission.to_csv('submission.csv', index=False)\n",
    "file_names = ['what_to_buy.ipynb', 'submission.csv']\n",
    "compress(file_names)"
   ]
  },
  {
   "cell_type": "markdown",
   "metadata": {},
   "source": [
    "<h2 dir=rtl align=right style=\"line-height:200%;font-family:vazir;color:#0099cc\">\n",
    "<font face=\"vazir\" color=\"#0099cc\">\n",
    "بیشتر بدانید:\n",
    "سیستم پیشنهاددهنده\n",
    "</font>\n",
    "</h2>\n",
    "\n",
    "<p dir=rtl style=\"direction: rtl; text-align: justify; line-height:200%; font-family:vazir; font-size:medium\">\n",
    "<font face=\"vazir\" size=3>\n",
    "برای پیشنهاد کالای جدید به یک کاربر روش‌های مختلفی وجود دارد، اما یک راه ساده این است که از تخمین امتیازی که مدل به‌ازای هر جفت کاربر و کالا می‌دهد استفاده کنیم.\n",
    "به‌ازای یک کاربر به‌کمک مدل خود تخمین می‌زنیم که وی از بین کالاهایی که تاکنون خریداری نکرده، کدام‌ها را بیشتر از همه دوست خواهد داشت و امتیاز بالاتری به آن‌ها خواهد داد. بنابراین می‌توانیم این کالاها را به او پیشنهاد دهیم و به‌احتمال زیاد از تعدادی از آن‌ها خوشش خواهد آمد. البته این موضوع نمی‌تواند مستقیماً به این معنی باشد که آن کالا را خریداری می‌کند. به‌عنوان مثال شاید یک کالای گران‌قیمت را پیشنهاد دهیم که همگی از آن خوشمان می‌آید اما بسیاری قدرت خرید آن را نداریم! 🫠\n",
    "</font>\n",
    "</p>\n",
    "\n",
    "\n",
    "<p dir=rtl style=\"direction: rtl; text-align: justify; line-height:200%; font-family:vazir; font-size:medium\">\n",
    "<font face=\"vazir\" size=3>\n",
    "<span style=\"color:green\"><b>راهنمایي:</b></span>\n",
    "برای تولید پیش‌بینی به‌ازای یک کاربر ابتدا لیستی از کالاهایی که وی تاکنون خریداری نکرده را پیدا کنید. سپس جفت شناسه‌ی کدگذاری‌شده‌ی کاربر و هر یک از این کالاها را به مدل ورودی بدهید تا امتیاز کاربر به هر کدام از آن کالاها تخمین زده شود. در نهایت می‌توان <code>n</code> کالایی که منجر به بیشترین امتیاز (خروجی مدل) شده را انتخاب کرد و به وی پیشنهاد داد.\n",
    "</font>\n",
    "</p>\n",
    "\n",
    "<p dir=rtl style=\"direction: rtl; text-align: justify; line-height:200%; font-family:vazir; font-size:medium\">\n",
    "<font face=\"vazir\" size=3>\n",
    "<span style=\"color:purple\"><b>🧐 بیشتر بی‌اندیشیم:</b></span>\n",
    "چه روش‌های دیگری جهت پیشنهاد کالا به یک کاربر مشخص به ذهن‌تان می‌رسد؟ آیا می‌توان مستقیماً‌ از بردارهای تعبیه‌ی هر کالا یا کاربر جهت پیشنهاد استفاده کرد؟ به چه روش‌های می‌توان کاربران مشابه با یک کاربر را پیدا کرده و براساس تجربه یا الگوی خرید آن‌ها به کاربر کالاهایی را پیشنهاد داد؟ پیشنهاد می‌کنیم به این موضوعات بیشتر فکر کرده و نظرات خود را از طریق بخش دیدگاه عمومی صفحه‌ی پروژه در کوئرا با دیگران به‌اشتراک بگذارید. چه بهتر که ایده‌های خود را به‌شکل عملی نیز آزمایش کنید.\n",
    "</font>\n",
    "</p>"
   ]
  },
  {
   "cell_type": "code",
   "execution_count": null,
   "metadata": {},
   "outputs": [],
   "source": []
  }
 ],
 "metadata": {
  "accelerator": "GPU",
  "colab": {
   "gpuType": "T4",
   "provenance": []
  },
  "kernelspec": {
   "display_name": "Python 3 (ipykernel)",
   "language": "python",
   "name": "python3"
  },
  "language_info": {
   "codemirror_mode": {
    "name": "ipython",
    "version": 3
   },
   "file_extension": ".py",
   "mimetype": "text/x-python",
   "name": "python",
   "nbconvert_exporter": "python",
   "pygments_lexer": "ipython3",
   "version": "3.11.2"
  }
 },
 "nbformat": 4,
 "nbformat_minor": 1
}
