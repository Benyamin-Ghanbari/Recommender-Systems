{
  "cells": [
    {
      "cell_type": "markdown",
      "metadata": {},
      "source": [
        "<h1 dir=rtl align=center style=\"line-height:200%;font-family:vazir;color:#0099cc\">\n",
        "<font face=\"vazir\" color=\"#0099cc\">\n",
        "چی بخریم؟\n",
        "</font>\n",
        "</h1>\n",
        "\n",
        "\n",
        "<p dir=rtl style=\"direction: rtl; text-align: justify; line-height:200%; font-family:vazir; font-size:medium\">\n",
        "<font face=\"vazir\" size=3>\n",
        "به یک پروژه‌ی متفاوت و کاربردی خوش آمدید! 🤩 در این مسئله گریزی به <i>سیستم‌های پیشنهاددهنده (Recommender Systems)</i> خواهیم زد و با استفاده از یک معماری یادگیری عمیق خلاقانه، مدلی پیاده خواهیم کرد که بتواند علاقه‌ی یک کاربر به یک کالای مشخص را تخمین بزند. با استفاده از این مدل خواهیم توانست لیستی از کالاها را به کاربر پیشنهاد دهیم که تاکنون آن‌ها را خریداری نکرده اما طبق الگوهایی که مدل بین کاربران و کالاها پیدا کرده به‌احتمال زیاد از آن‌ها خوشش خواهد آمد و به آن‌ها امتیاز بالایی خواهد داد. مجموعه‌داده‌ی پروژه نیز شامل داده‌های واقعی مربوط به کالاهای الکترونیکی موجود در <i>فروشگاه آنلاین آمازون (Amazon)</i> است.\n",
        "</font>\n",
        "</p>\n",
        "\n",
        "<p dir=rtl style=\"direction: rtl; text-align: justify; line-height:200%; font-family:vazir; font-size:medium\">\n",
        "<font color=\"orange\"><b>نکته:</b></font>\n",
        "<font face=\"vazir\" size=3>\n",
        "اگرچه در این پروژه با داده‌های فروشگاه آنلاین سروکار داریم اما این مدل پیشنهاددهنده را می‌توان در دامنه‌های گوناگونی به کار گرفت. به‌عنوان مثال می‌توان سیستمی مشابه جهت پیشنهاد فیلم یا قطعه‌ی موسیقی به کاربران طراحی کرد.\n",
        "</font>\n",
        "</p>"
      ]
    },
    {
      "cell_type": "markdown",
      "metadata": {},
      "source": [
        "<h2 dir=rtl align=right style=\"line-height:200%;font-family:vazir;color:#0099cc\">\n",
        "<font face=\"vazir\" color=\"#0099cc\">\n",
        "مجموعه‌داده\n",
        "</font>\n",
        "</h2>\n",
        "\n",
        "<p dir=rtl style=\"direction: rtl; text-align: justify; line-height:200%; font-family:vazir; font-size:medium\">\n",
        "<font face=\"vazir\" size=3>\n",
        "داده‌های آموزشی در فایل <code dir=ltr>amazon_train.csv</code> در دسترس شما قرار گرفته است. این فایل شامل ۴ ستون است که به‌ترتیب بیانگر شناسه‌ی کاربر، شناسه‌ی محصول، امتیازی که کاربر به محصول داده و زمان ثبت امتیاز هستند. شبکه‌ای که در ادامه پیاده خواهیم کرد شناسه‌ی عددی کاربر و محصول را ورودی می‌گرد و امتیازی که کاربر به آن محصول می‌دهد را تخمین خواهد زد. ابتدا فایل مجموعه‌داده را به‌کمک <code>pandas</code> بخوانید.\n",
        "</font>\n",
        "</p>"
      ]
    },
    {
      "cell_type": "code",
      "execution_count": null,
      "metadata": {},
      "outputs": [],
      "source": [
        "import numpy as np\n",
        "import pandas as pd\n",
        "\n",
        "# Loading the dataset\n",
        "# TODO"
      ]
    },
    {
      "cell_type": "markdown",
      "metadata": {},
      "source": [
        "<h2 dir=rtl align=right style=\"line-height:200%;font-family:vazir;color:#0099cc\">\n",
        "<font face=\"vazir\" color=\"#0099cc\">\n",
        "پیش‌پردازش\n",
        "</font>\n",
        "</h2>\n",
        "\n",
        "<p dir=rtl style=\"direction: rtl; text-align: justify; line-height:200%; font-family:vazir; font-size:medium\">\n",
        "<font face=\"vazir\" size=3>\n",
        "پس از بررسی و تحلیل داده‌هایی که در اختیارتان گرفته ممکن است به پیش‌پردازش‌های مختلفی نیاز پیدا کنید و ایده‌های گوناگونی را پیاده کنید. با این حال، دو پیش‌پردازش اصلی که حتماً به آن‌ها نیاز خواهید داشت را در ادامه شرح داده‌ایم.\n",
        "</font>\n",
        "</p>\n",
        "\n",
        "<h3 dir=rtl align=right style=\"line-height:200%;font-family:vazir;color:#0099cc\">\n",
        "<font face=\"vazir\" color=\"#0099cc\">\n",
        "کدگذاری\n",
        "</font>\n",
        "</h3>\n",
        "\n",
        "<p dir=rtl style=\"direction: rtl; text-align: justify; line-height:200%; font-family:vazir; font-size:medium\">\n",
        "<font face=\"vazir\" size=3>\n",
        "از آن‌جا که شناسه‌های کاربر (<code dir=ltr>UserID</code>) و محصول (<code dir=ltr>ProductID</code>) به‌صورت رشته‌ای هستند، نیاز است آن‌ها را به‌شکل اعداد مرتب کدگذاری کنیم. بنابراین ابتدا با استفاده از کلاس <code>LabelEncoder</code> موجود در کتابخانه‌ی <code>sklearn</code> هر کدام از این ستون‌ها را کدگذاری کنید. پیشنهاد می‌شود حاصل را در ستون‌های مجزایی به‌نام‌های <code>UserEnc</code> و <code>ProductEnc</code> ذخیره کنید.\n",
        "</font>\n",
        "</p>"
      ]
    },
    {
      "cell_type": "code",
      "execution_count": null,
      "metadata": {
        "id": "NoRc6e2o1bHB"
      },
      "outputs": [],
      "source": [
        "from sklearn.preprocessing import LabelEncoder\n",
        "\n",
        "# Encoding each ID string\n",
        "# TODO"
      ]
    },
    {
      "cell_type": "markdown",
      "metadata": {},
      "source": [
        "<h3 dir=rtl align=right style=\"line-height:200%;font-family:vazir;color:#0099cc\">\n",
        "<font face=\"vazir\" color=\"#0099cc\">\n",
        "نرمال‌سازی\n",
        "</font>\n",
        "</h3>\n",
        "\n",
        "<p dir=rtl style=\"direction: rtl; text-align: justify; line-height:200%; font-family:vazir; font-size:medium\">\n",
        "<font face=\"vazir\" size=3>\n",
        "اکنون مقادیر ستون <code>Rating</code> را به‌کمک <code>MinMaxScaler</code> کتابخانه‌ی <code>sklearn</code> نرمال کنید تا مقادیر آن به بازه‌ی ۰ تا ۱ نگاشت شود.\n",
        "</font>\n",
        "</p>"
      ]
    },
    {
      "cell_type": "code",
      "execution_count": null,
      "metadata": {
        "colab": {
          "base_uri": "https://localhost:8080/",
          "height": 206
        },
        "id": "8WAJmLCc1hP5",
        "outputId": "75f04964-75d7-4560-8cbb-c0c7c051d299"
      },
      "outputs": [],
      "source": [
        "from sklearn.preprocessing import MinMaxScaler\n",
        "\n",
        "# Scaling the Rating column\n",
        "# TODO"
      ]
    },
    {
      "cell_type": "markdown",
      "metadata": {},
      "source": [
        "<h2 dir=rtl align=right style=\"line-height:200%;font-family:vazir;color:#0099cc\">\n",
        "<font face=\"vazir\" color=\"#0099cc\">\n",
        "مدل‌سازی\n",
        "</font>\n",
        "</h2>\n",
        "\n",
        "\n",
        "<p dir=rtl style=\"direction: rtl; text-align: justify; line-height:200%; font-family:vazir; font-size:medium\">\n",
        "<font face=\"vazir\" size=3>\n",
        "حال نوبت به مدل‌سازی می‌رسد. ساختار پیشنهادی ما به این شکل است که شبکه دو ورودی خواهد داشت: شناسه‌ی کاربر و شناسه‌ی کالا. برای هر کدام از این شناسه‌ها یک لایه‌ی تعبیه‌ساز (<code>Embedding</code>) جداگانه در نظر می‌گیریم تا به‌ازای هر کاربر یا کالا، یک بردار تعبیه‌ی بامعنا ساخته شود. خروجی هر لایه‌ی تعبیه به‌کمک یک لایه‌ی <code>Flatten</code> مسطح خواهد شد. پس از این مراحل، دو بردار بازنمایی کالا و کاربر در اختیار شما قرار می‌گیرد و می‌توانید پس از آن معماری دلخواه خود را پیاده کنید. به‌عنوان مثال می‌توانید بردار تعبیه‌ی کالا را در بردار تعبیه‌ی کاربر ضرب نقطه‌ای کنید (به‌کمک لایه‌ی <code>dot</code>) و حاصل را از تابع فعال‌ساز <code>sigmoid</code> عبور دهید تا خروجی شبکه یعنی امتیاز کاربر به آن کالا بین ۰ تا ۱ تولید شود. بنابراین ابتدا این ساختار را به‌کمک مدل تابعی (Functional) کراس پیاده‌سازی کنید.\n",
        "</font>\n",
        "</p>\n",
        "\n",
        "<p dir=rtl style=\"direction: rtl; text-align: justify; line-height:200%; font-family:vazir; font-size:medium\">\n",
        "<font color=\"orange\"><b>نکته:</b></font>\n",
        "<font face=\"vazir\" size=3>\n",
        "دست شما کاملاً برای ایجاد تغییرات در این ساختار باز است. به‌عنوان مثال می‌توانید علاوه بر تولید بردارهای تعبیه، به‌کمک لایه‌های اضافه‌ی <code>Embedding</code> (با اندازه‌ی بردار ۱) یک مقدار بایاس هم برای هر کاربر یا کالا تولید کنید. در نهایت می‌توانید بایاس کاربر، بایاس کالا و حاصل ضرب نقطه‌ای را به‌کمک یک لایه‌ی <code>add</code> جمع کنید. به‌عنوان ایده‌ای دیگر می‌توانید به‌جای آن‌که دو بردار تعبیه را در یکدیگر ضرب کنید از عملیات‌های دیگری همچون الحاق (<code>Concatenate</code>) استفاده کنید. همچنین می‌توانید بر تعداد لایه‌ها بی‌افزایید، یا روش مقداردهی اولیه‌ی وزن‌ها یا رگولاریزیشن هر لایه را تنظیم کنید.\n",
        "</font>\n",
        "</p>"
      ]
    },
    {
      "cell_type": "code",
      "execution_count": null,
      "metadata": {
        "id": "mqa6gyA21jvw"
      },
      "outputs": [],
      "source": [
        "import keras\n",
        "# Building the model\n",
        "# TODO"
      ]
    },
    {
      "cell_type": "markdown",
      "metadata": {},
      "source": [
        "<p dir=rtl style=\"direction: rtl; text-align: justify; line-height:200%; font-family:vazir; font-size:medium\">\n",
        "<font face=\"vazir\" size=3>\n",
        "پس از طراحی معماری شبکه، می‌توانید آن را با ورودی دادن یک لیست شامل دو لیست شناسه‌ی کاربر و شناسه‌ی کالا آموزش دهید. متغیر هدف نیز همان ستون <code>Rating</code> خواهد بود. همچنین در صورتی‌که در لایه‌ی آخر از تابع فعال‌ساز <code>sigmoid</code> برای نورون خروجی استفاده کرده باشید می‌توانید از تابع زیان <code>binary_crossentropy</code> بهره ببرید. در صورت علاقه و نیاز می‌توانید از هر تکنیک دلخواهی در فرآیند آموزش مدل خود استفاده کنید.\n",
        "</font>\n",
        "</p>"
      ]
    },
    {
      "cell_type": "code",
      "execution_count": null,
      "metadata": {},
      "outputs": [],
      "source": [
        "# Training phase\n",
        "# TODO"
      ]
    },
    {
      "cell_type": "markdown",
      "metadata": {},
      "source": [
        "<h2 dir=rtl align=right style=\"line-height:200%;font-family:vazir;color:#0099cc\">\n",
        "<font face=\"vazir\" color=\"#0099cc\">\n",
        "پیش‌بینی\n",
        "</font>\n",
        "</h2>\n",
        "\n",
        "<p dir=rtl style=\"direction: rtl; text-align: justify; line-height:200%; font-family:vazir; font-size:medium\">\n",
        "<font face=\"vazir\" size=3>\n",
        "دو فایل دیگر به نام‌های <code>amazon_valid.csv</code> و <code>amazon_test.csv</code> نیز به‌عنوان مجموعه‌ی اعتبارسنجی و آزمون در اختیار شما قرار گرفته است. مدل شما باید بتواند به‌ازای هر جفت کاربر و کالا، امتیازی که آن کاربر به آن کالا می‌دهد را به‌درستی تخمین بزند. ساختار این مجموعه‌ها نیز مشابه با مجموعه‌ی آموزشی است با این تفاوت که برچسب حقیقی داده‌های آزمون در دسترس شما نیست و ارزیابی مدل شما بر روی داده‌های آزمون در سامانه‌ی داوری کوئرا انجام می‌پذیرد. با این حال، توزیع داده‌ها بین مجموعه‌ی اعتبارسنجی و آزمون بسیار مشابه است و اگر مدل شما برای نمونه‌های اعتبارسنجی به عملکرد قابل قبولی برسد به احتمال زیاد برای نمونه‌های آزمون نیز همین‌گونه خواهد بود.\n",
        "</font>\n",
        "</p>\n",
        "\n",
        "\n",
        "<h3 dir=rtl align=right style=\"line-height:200%;font-family:vazir;color:#0099cc\">\n",
        "<font face=\"vazir\" color=\"#0099cc\">\n",
        "معیار ارزیابی\n",
        "</font>\n",
        "</h3>\n",
        "\n",
        "<p dir=rtl style=\"direction: rtl; text-align: justify; line-height:200%; font-family:vazir; font-size:medium\">\n",
        "<font face=\"vazir\" size=3>\n",
        "هدفی که در این نوع مسئله در نظر گرفته‌ایم این است که مدل شما تا چه‌اندازه می‌تواند کالاهایی که کاربر به آن‌ها امتیاز بالا (۴ یا ۵) می‌دهد را به‌درستی تشخیص دهد، بنابراین\n",
        "عملکرد مدل شما در سامانه‌ی داوری به این‌گونه ارزیابی خواهد شد که برچسب‌های <code>5</code> و <code>4</code> به‌عنوان دسته‌ی مثبت و سایر برچسب‌ها به‌عنوان دسته‌ی منفی در نظر گرفته می‌شود.\n",
        "سپس از معیار <code>Precision</code> جهت ارزیابی مدل شما استفاده خواهد شد که در واقع نسبت تعداد پیشنهادات مثبت درست (مدل تشخیص داده که کاربر به کالا امتیاز بالا می‌دهد و واقعاً این‌گونه بوده) به کل پیشنهادات مثبت مدل را می‌شمارد.\n",
        "</font>\n",
        "</p>\n",
        "\n",
        "<p dir=rtl style=\"direction: rtl; text-align: justify; line-height:200%; font-family:vazir; font-size:medium\">\n",
        "<font color=\"red\"><b color='red'>توجه:</b></font>\n",
        "<font face=\"vazir\" size=3>\n",
        " جهت کسب امتیاز کامل نیاز است تا پاسخ شما حداقل امتیاز <code>80</code> را با توجه به معیار معرفی‌شده کسب نماید.\n",
        "</font>\n",
        "</p>"
      ]
    },
    {
      "cell_type": "code",
      "execution_count": null,
      "metadata": {},
      "outputs": [],
      "source": [
        "# Evaluate on validation data\n",
        "# TODO"
      ]
    },
    {
      "cell_type": "markdown",
      "metadata": {},
      "source": [
        "<h3 align=right style=\"line-height:200%;font-family:vazir;color:#0099cc\">\n",
        "<font face=\"vazir\" color=\"#0099cc\">\n",
        "ساختار خروجی برای نمونه‌های آزمون\n",
        "</font>\n",
        "</h3>\n",
        "\n",
        "<p dir=rtl style=\"direction: rtl; text-align: justify; line-height:200%; font-family:vazir; font-size:medium\">\n",
        "<font face=\"vazir\" size=3>\n",
        " پیش‌بینی مدل خود را برای نمونه‌های آزمون به‌شکل امتیازی بین ۱ تا ۵ تولید کرده و در ستون <code>Rating</code> یک دیتافریم با نام <code>submission</code> در قالب جدول زیر ذخیره کنید.\n",
        "</font>\n",
        "</p>\n",
        "\n",
        "<center>\n",
        "<div dir=rtl style=\"direction: rtl;line-height:200%;font-family:vazir;font-size:medium\">\n",
        "<font face=\"vazir\" size=3>\n",
        "    \n",
        "|ستون|توضیحات|\n",
        "|:------:|:---:|\n",
        "|<code>UserID</code>|شناسه‌ی کاربر (مشابه با نمونه‌ی آزمون)|\n",
        "|<code>ProductID</code>|شناسه‌ی کالا (مشابه با نمونه‌ی آزمون)|\n",
        "|<code>Rating</code>|امتیاز کاربر به کالا از ۱ تا ۵ (پیش‌بینی مدل)|\n",
        "    \n",
        "</font>\n",
        "</div>\n",
        "</center>"
      ]
    },
    {
      "cell_type": "code",
      "execution_count": null,
      "metadata": {},
      "outputs": [],
      "source": [
        "# Preparing submission file\n",
        "submission = None # TODO\n",
        "submission"
      ]
    },
    {
      "cell_type": "markdown",
      "metadata": {},
      "source": [
        "<h2 align=right style=\"line-height:200%;font-family:vazir;color:#0099cc\">\n",
        "<font face=\"vazir\" color=\"#0099cc\">\n",
        "<b>سلول جواب‌ساز</b>\n",
        "</font>\n",
        "</h2>\n",
        "\n",
        "<p dir=rtl style=\"direction: rtl; text-align: justify; line-height:200%; font-family:vazir; font-size:medium\">\n",
        "<font face=\"vazir\" size=3>\n",
        "    برای ساخته‌شدن فایل <code>result.zip</code> سلول زیر را اجرا کنید. توجه داشته باشید که پیش از اجرای سلول زیر تغییرات اعمال شده در نت‌بوک را ذخیره کرده باشید (<code>ctrl+s</code>) تا در صورت نیاز به پشتیبانی امکان بررسی کد شما وجود داشته باشد. همچنین اگر از گوگل کولب استفاده می‌کنید، در صورت نیاز به پشتیبانی حتماً آخرین نسخه از نت‌بوک را به‌صورت دستی دانلود کرده و داخل فایل ارسالی قرار دهید یا لینک کولب را با ما به‌اشتراک بگذارید.\n",
        "</font>\n",
        "</p>"
      ]
    },
    {
      "cell_type": "code",
      "execution_count": null,
      "metadata": {},
      "outputs": [],
      "source": [
        "import zipfile\n",
        "import joblib\n",
        "import os\n",
        "\n",
        "if not os.path.exists(os.path.join(os.getcwd(), 'what_to_buy.ipynb')):\n",
        "    %notebook -e what_to_buy.ipynb\n",
        "\n",
        "def compress(file_names):\n",
        "    print(\"File Paths:\")\n",
        "    print(file_names)\n",
        "    compression = zipfile.ZIP_DEFLATED\n",
        "    with zipfile.ZipFile(\"result.zip\", mode=\"w\") as zf:\n",
        "        for file_name in file_names:\n",
        "            zf.write('./' + file_name, file_name, compress_type=compression)\n",
        "\n",
        "submission.to_csv('submission.csv', index=False)\n",
        "file_names = ['what_to_buy.ipynb', 'submission.csv']\n",
        "compress(file_names)"
      ]
    },
    {
      "cell_type": "markdown",
      "metadata": {},
      "source": [
        "<h2 dir=rtl align=right style=\"line-height:200%;font-family:vazir;color:#0099cc\">\n",
        "<font face=\"vazir\" color=\"#0099cc\">\n",
        "بیشتر بدانید:\n",
        "سیستم پیشنهاددهنده\n",
        "</font>\n",
        "</h2>\n",
        "\n",
        "<p dir=rtl style=\"direction: rtl; text-align: justify; line-height:200%; font-family:vazir; font-size:medium\">\n",
        "<font face=\"vazir\" size=3>\n",
        "برای پیشنهاد کالای جدید به یک کاربر روش‌های مختلفی وجود دارد، اما یک راه ساده این است که از تخمین امتیازی که مدل به‌ازای هر جفت کاربر و کالا می‌دهد استفاده کنیم.\n",
        "به‌ازای یک کاربر به‌کمک مدل خود تخمین می‌زنیم که وی از بین کالاهایی که تاکنون خریداری نکرده، کدام‌ها را بیشتر از همه دوست خواهد داشت و امتیاز بالاتری به آن‌ها خواهد داد. بنابراین می‌توانیم این کالاها را به او پیشنهاد دهیم و به‌احتمال زیاد از تعدادی از آن‌ها خوشش خواهد آمد. البته این موضوع نمی‌تواند مستقیماً به این معنی باشد که آن کالا را خریداری می‌کند. به‌عنوان مثال شاید یک کالای گران‌قیمت را پیشنهاد دهیم که همگی از آن خوشمان می‌آید اما بسیاری قدرت خرید آن را نداریم! 🫠\n",
        "</font>\n",
        "</p>\n",
        "\n",
        "\n",
        "<p dir=rtl style=\"direction: rtl; text-align: justify; line-height:200%; font-family:vazir; font-size:medium\">\n",
        "<font face=\"vazir\" size=3>\n",
        "<span style=\"color:green\"><b>راهنمایي:</b></span>\n",
        "برای تولید پیش‌بینی به‌ازای یک کاربر ابتدا لیستی از کالاهایی که وی تاکنون خریداری نکرده را پیدا کنید. سپس جفت شناسه‌ی کدگذاری‌شده‌ی کاربر و هر یک از این کالاها را به مدل ورودی بدهید تا امتیاز کاربر به هر کدام از آن کالاها تخمین زده شود. در نهایت می‌توان <code>n</code> کالایی که منجر به بیشترین امتیاز (خروجی مدل) شده را انتخاب کرد و به وی پیشنهاد داد.\n",
        "</font>\n",
        "</p>\n",
        "\n",
        "<p dir=rtl style=\"direction: rtl; text-align: justify; line-height:200%; font-family:vazir; font-size:medium\">\n",
        "<font face=\"vazir\" size=3>\n",
        "<span style=\"color:purple\"><b>🧐 بیشتر بی‌اندیشیم:</b></span>\n",
        "چه روش‌های دیگری جهت پیشنهاد کالا به یک کاربر مشخص به ذهن‌تان می‌رسد؟ آیا می‌توان مستقیماً‌ از بردارهای تعبیه‌ی هر کالا یا کاربر جهت پیشنهاد استفاده کرد؟ به چه روش‌های می‌توان کاربران مشابه با یک کاربر را پیدا کرده و براساس تجربه یا الگوی خرید آن‌ها به کاربر کالاهایی را پیشنهاد داد؟ پیشنهاد می‌کنیم به این موضوعات بیشتر فکر کرده و نظرات خود را از طریق بخش دیدگاه عمومی صفحه‌ی پروژه در کوئرا با دیگران به‌اشتراک بگذارید. چه بهتر که ایده‌های خود را به‌شکل عملی نیز آزمایش کنید.\n",
        "</font>\n",
        "</p>"
      ]
    },
    {
      "cell_type": "code",
      "execution_count": null,
      "metadata": {},
      "outputs": [],
      "source": []
    }
  ],
  "metadata": {
    "accelerator": "GPU",
    "colab": {
      "gpuType": "T4",
      "provenance": []
    },
    "kernelspec": {
      "display_name": "Python 3",
      "name": "python3"
    },
    "language_info": {
      "codemirror_mode": {
        "name": "ipython",
        "version": 3
      },
      "file_extension": ".py",
      "mimetype": "text/x-python",
      "name": "python",
      "nbconvert_exporter": "python",
      "pygments_lexer": "ipython3",
      "version": "3.11.5"
    }
  },
  "nbformat": 4,
  "nbformat_minor": 0
}
